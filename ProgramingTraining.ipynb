{
  "nbformat": 4,
  "nbformat_minor": 0,
  "metadata": {
    "colab": {
      "name": "ProgramingTraining.ipynb",
      "provenance": [],
      "collapsed_sections": [],
      "authorship_tag": "ABX9TyPkoY2E2+9vGpdM0FVkhQcH",
      "include_colab_link": true
    },
    "kernelspec": {
      "name": "python3",
      "display_name": "Python 3"
    }
  },
  "cells": [
    {
      "cell_type": "markdown",
      "metadata": {
        "id": "view-in-github",
        "colab_type": "text"
      },
      "source": [
        "<a href=\"https://colab.research.google.com/github/KwonWooChan/ColabNoteBook/blob/master/ProgramingTraining.ipynb\" target=\"_parent\"><img src=\"https://colab.research.google.com/assets/colab-badge.svg\" alt=\"Open In Colab\"/></a>"
      ]
    },
    {
      "cell_type": "markdown",
      "metadata": {
        "id": "WxYZEnzFmm_x"
      },
      "source": [
        "# Ⅲ. 문제해결과 프로그래밍\n",
        "## 3. 프로그래밍"
      ]
    },
    {
      "cell_type": "markdown",
      "metadata": {
        "id": "O_FSaoAnmxhk"
      },
      "source": [
        "## 프로그래밍 실습  \n",
        "교과서에 있는 안풀어본 예제들을 풀어보자. \n",
        "\n",
        "![PT01]()  \n",
        "[씨마스, \"고등학교 정보\", 120p - 180p, 237p - 244p]\n",
        "\n",
        "1차시 수업 내용 \n",
        "교과서 120p - 151p\n",
        "\n",
        "2차시 수업 내용 \n",
        "교과서 ***\n",
        "\n",
        "3차시 수업 내용\n",
        "교고서 ***"
      ]
    },
    {
      "cell_type": "markdown",
      "metadata": {
        "id": "9QAQPh49n7gx"
      },
      "source": [
        "### 01.파이선으로 그래픽 만들기(125p)  \n",
        "\n",
        "turtle 모듈을 사용하여 정삼각형을 그리는 프로그램을 작성하여라\n",
        "\n",
        "![PT02]()  \n",
        "![PT03]()"
      ]
    },
    {
      "cell_type": "code",
      "metadata": {
        "id": "97Q4hWO_mmdi"
      },
      "source": [
        "!pip3 install ColabTurtle\n",
        "from ColabTurtle.Turtle import *\n",
        "\n",
        "initializeTurtle(initial_speed=10)\n",
        "color(\"orange\")\n",
        "bgcolor('white')\n",
        "width(1)\n",
        "\n",
        "forward(200)\n",
        "left(120)\n",
        "forward(200)\n",
        "left(120)\n",
        "forward(200)"
      ],
      "execution_count": null,
      "outputs": []
    },
    {
      "cell_type": "code",
      "metadata": {
        "id": "A8wOgxvbmeax"
      },
      "source": [
        "\n",
        "# 정 다각형 그리기\n",
        "d = int(input(\"정다각형의 각의 수는 몇개인가? \"))\n",
        "\n",
        "initializeTurtle(initial_speed=10)\n",
        "color(\"orange\")\n",
        "bgcolor('white')\n",
        "width(1)\n",
        "\n",
        "for a in range(d):\n",
        "  forward(100)\n",
        "  left(360/d) "
      ],
      "execution_count": null,
      "outputs": []
    },
    {
      "cell_type": "markdown",
      "metadata": {
        "id": "oGehQ0hwGm5H"
      },
      "source": [
        "### 02.중첩 제어 구조를 활용하여 '합리적인 소비를 위한 경우의 수 계산 프로그램'을 작성해 보자.  (146p)\n",
        "\n",
        "> 10,000원으로 마트에서 물건을 사려고 한다. 필요한 물건은 1개당 500원, 1,000원의 두 종류가 있으며, 각각 재고가 10개씩 남아있다. 두 종류의 물건을 모두 1개 이상 샀을때, 10,000원을 정확하게 사용하여 구입할 수 있는 경우의 수는 몇가지 일까? 각각의 경우마다 살 수 있는 물건의 개수를 구하여 출력하다.\n",
        "\n",
        "---\n",
        "\n",
        "**문제 이해 및 분석**  \n",
        "1. 필요한 물건은 두 종류이며, 가격은 각각 500원, 1000원이다.\n",
        "2. 모든 종류의 물건을 1개 이상 사야 한다.\n",
        "3. 종류별로 살 ㅅ ㅜ있ㄴ느 물건의 재고는 최대 10개이다.\n",
        "4. 10,000원을 남김없이 정확하게 사용해야 한다. \n",
        "\n",
        "**알고리즘 설계**  \n",
        "1. 500원, 1,000원짜리 물건을 각각 1~10개 구입하는 모든 경우의 수를 구한다.\n",
        "2. 경우의 수를 효율적으로 구하기 위해 중첩반복문을 사용한다.\n",
        "3. 각 경우마다 해당 경우의 수로 물건을 구입할 때의 총 금액을 계산한다.\n",
        "4. 계산된 금액이 10,000원이면 화면에 출력하고, 개수를 세는 변숫값을 1증가 시킨다.\n",
        "5. 모든 경우의 수를 확인한 후, 개수를 세는 변수를 출력하여 10,000원이 되는 경우가 몇가지인지 출력한다.\n",
        "\n",
        "![PT04]()\n",
        "![PT05]()"
      ]
    },
    {
      "cell_type": "code",
      "metadata": {
        "id": "8H3VSmoSEElS"
      },
      "source": [
        "print(\"[물건 개수 구하기]\")\n",
        "\n",
        "count = 0\n",
        "sum = 0\n",
        "\n",
        "for i in range(1,11) :\n",
        "  for j in range(1,11) :\n",
        "    sum = i*500 + j*1000\n",
        "    if sum == 10000 :\n",
        "      count = count + 1\n",
        "      print(\"500원 %d개, 1000원 %d개\" %(i,j))\n",
        "    \n",
        "print(\"경우의 수는 %d가지 입니다.\" %count)"
      ],
      "execution_count": null,
      "outputs": []
    },
    {
      "cell_type": "markdown",
      "metadata": {
        "id": "IHG0I3TCBSs9"
      },
      "source": [
        "### 03.중첩 제어 구조를 활용하여 '숫자 맞히기 게임 프로그램'을 작성해 보자.  \n",
        "> 컴퓨터가 생각한 임의의 숫자를 알아맞히는 게임을 만들고자 한다. 컴퓨터가 정한 숫자와 사용자가 입력한 숫자가 다를 경우, 입력된 숫자보다 큰지 작은지 힌트로 알려준다.  \n",
        "\n",
        "---\n",
        "\n",
        "**문제 이해 및 분석**  \n",
        "1. 컴퓨터가 정하는 숫자는 1부터 100까지의 숫자(정수) 중 하나이다.\n",
        "2. 숫자를 맞힐 수 있는 기회ㅣ는 최대 6번이다.\n",
        "3. 추측하여 입력한 숫자가 다르면 컴퓨터가 정한 숫자가 큰지 작은지 힌트로 알려준다.  \n",
        "4. 6번 안에 맞히면 '정답' 메시지가 출력되고, 맞히지 못하면 '실패'메시지를 출력한다.\n",
        "**알고리즘 설계**  \n",
        "1. 1부터 100까지의 수 중 임의의 숫자(정수)를 저장한다.\n",
        "2. 추측한 숫자를 입력하여 저장된 임의의 숫자와 비교한다.\n",
        "3. 추측한 숫자와 임의의 숫자가 같으면 '정답'메시지를 출력하고 프로그램을 종료한다.\n",
        "4. 추측한 숫자와 임의의 숫자가 다르면 임의의 숫자가 큰지 작은지를 알려주는 힌트를 준다.\n",
        "5. 위 2~4의 과정을 6번 반복한다.\n",
        "6. 6번의 기회가 지난 후에도 추측한 숫자와 임의의 숫자가 다르면 '실패' 메시지를 출력한다.\n",
        "\n",
        "\n",
        "![PT06]()\n",
        "![PT07]()"
      ]
    },
    {
      "cell_type": "code",
      "metadata": {
        "id": "iKWrLu0QDFWM"
      },
      "source": [
        "import random\n",
        "print(\"1~100까지의 숫자(정수) 중 컴퓨터가 생각한 숫자를 맞혀 보세요.\")\n",
        "print(\"기회는 6번입니다.\")\n",
        "\n",
        "number = random.randint(1,100) \n",
        "\n",
        "for i in range(1,7):\n",
        "  guess = int(input(\"숫자를 입력하세요. : \"))\n",
        "  if guess > number :\n",
        "    print(\"더 작은 수 입니다.\")\n",
        "  elif guess < number :\n",
        "    print(\"더 큰 수 입니다.\")\n",
        "  else :\n",
        "    print(\"정답\")\n",
        "    print(i, \"번 만에 답을 맞혔습니다.\")\n",
        "    break\n",
        "  \n",
        "if guess != number :\n",
        "  print(\"실패 ! 컴퓨터가 생각한 숫자는\", number, \"입니다.\")\n",
        "  "
      ],
      "execution_count": null,
      "outputs": []
    },
    {
      "cell_type": "markdown",
      "metadata": {
        "id": "pavM95QyDFvi"
      },
      "source": [
        "### 04.태양계의 8개 행성의 크기(km)를 1차원 배열로 순서대로 저장한 후, 행성의 크기가 가장 큰 값을 찾아 출력하는 프로그램을 작성해 보자. (151p)  \n",
        "---\n",
        "\n",
        "![PT08]()\n",
        "![PT09]()"
      ]
    },
    {
      "cell_type": "code",
      "metadata": {
        "id": "byDTszh2Gd1K",
        "outputId": "d13dab61-51cf-4379-df25-c7356df57d83",
        "colab": {
          "base_uri": "https://localhost:8080/"
        }
      },
      "source": [
        "planetScale = [2440, 6052, 6478, 3390, 69911, 58232, 25362, 24622]\n",
        "maxScale = planetScale[0]\n",
        "\n",
        "for i in range(1,8):\n",
        "  if maxScale < planetScale[i] :\n",
        "    maxScale = planetScale[i]\n",
        "\n",
        "print(maxScale)"
      ],
      "execution_count": 4,
      "outputs": [
        {
          "output_type": "stream",
          "text": [
            "69911\n"
          ],
          "name": "stdout"
        }
      ]
    }
  ]
}