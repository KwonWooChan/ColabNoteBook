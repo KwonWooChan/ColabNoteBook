{
  "nbformat": 4,
  "nbformat_minor": 0,
  "metadata": {
    "colab": {
      "name": "Untitled6.ipynb",
      "provenance": [],
      "authorship_tag": "ABX9TyMDHapk5xI3OsCWgPMZzzpu",
      "include_colab_link": true
    },
    "kernelspec": {
      "name": "python3",
      "display_name": "Python 3"
    }
  },
  "cells": [
    {
      "cell_type": "markdown",
      "metadata": {
        "id": "view-in-github",
        "colab_type": "text"
      },
      "source": [
        "<a href=\"https://colab.research.google.com/github/KwonWooChan/ColabNoteBook/blob/master/WebCrawler.ipynb\" target=\"_parent\"><img src=\"https://colab.research.google.com/assets/colab-badge.svg\" alt=\"Open In Colab\"/></a>"
      ]
    },
    {
      "cell_type": "code",
      "metadata": {
        "id": "pYimHEkI5Tla"
      },
      "source": [
        "print(\"안녕하세요.\")"
      ],
      "execution_count": null,
      "outputs": []
    },
    {
      "cell_type": "markdown",
      "metadata": {
        "id": "x6I5jNzF5kBT"
      },
      "source": [
        "# Pyhton , reqests, BueatifulSoup\r\n",
        "## 웹 크롤링 하기"
      ]
    },
    {
      "cell_type": "code",
      "metadata": {
        "id": "HaHVgLr_55T5"
      },
      "source": [
        "pip install requests"
      ],
      "execution_count": null,
      "outputs": []
    },
    {
      "cell_type": "code",
      "metadata": {
        "id": "917CGjJP6OPh"
      },
      "source": [
        "pip install bs4"
      ],
      "execution_count": null,
      "outputs": []
    },
    {
      "cell_type": "code",
      "metadata": {
        "id": "zxHjog4g6VdS"
      },
      "source": [
        "import requests\r\n",
        "\r\n",
        "urlSorce = requests.get(\"https://news.naver.com/\", headers = {'User-Agent' : 'Mozilla/5.0'})\r\n",
        "\r\n",
        "status = urlSorce.status_code\r\n",
        "print(status)"
      ],
      "execution_count": null,
      "outputs": []
    },
    {
      "cell_type": "code",
      "metadata": {
        "id": "6E1onePL7Jcq"
      },
      "source": [
        "print(urlSorce.text)"
      ],
      "execution_count": null,
      "outputs": []
    },
    {
      "cell_type": "code",
      "metadata": {
        "id": "Gs6SJplC7dMJ"
      },
      "source": [
        "from bs4 import BeautifulSoup\r\n",
        "\r\n",
        "soup = BeautifulSoup(urlSorce.text, \"html.parser\")\r\n",
        "\r\n",
        "hd_title = soup.select('div#section_economy > div.com_list > div.mtype_list_wide > ul > li > a')\r\n",
        "\r\n",
        "for title in hd_title:\r\n",
        "  print(title.text)"
      ],
      "execution_count": null,
      "outputs": []
    }
  ]
}