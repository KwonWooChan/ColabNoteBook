{
  "nbformat": 4,
  "nbformat_minor": 0,
  "metadata": {
    "colab": {
      "name": "DatatypeAndOperator.ipynb",
      "provenance": [],
      "collapsed_sections": [],
      "toc_visible": true,
      "authorship_tag": "ABX9TyN28IgfY1kBt6JhS+hBEVg8",
      "include_colab_link": true
    },
    "kernelspec": {
      "name": "python3",
      "display_name": "Python 3"
    },
    "language_info": {
      "name": "python"
    }
  },
  "cells": [
    {
      "cell_type": "markdown",
      "metadata": {
        "id": "view-in-github",
        "colab_type": "text"
      },
      "source": [
        "<a href=\"https://colab.research.google.com/github/KwonWooChan/ColabNoteBook/blob/master/DatatypeAndOperator.ipynb\" target=\"_parent\"><img src=\"https://colab.research.google.com/assets/colab-badge.svg\" alt=\"Open In Colab\"/></a>"
      ]
    },
    {
      "cell_type": "markdown",
      "metadata": {
        "id": "z91lUOwXQVkf"
      },
      "source": [
        "# 3. 문제 해결과 프로그래밍\n",
        "## 2.2 자료형과 연산"
      ]
    },
    {
      "cell_type": "markdown",
      "metadata": {
        "id": "-rPMf4DdQfxW"
      },
      "source": [
        "## 학습목표\n",
        "- **자료형**에 적합한 **변수**를 활용한 프로그램을 작성할 수 있다.\n",
        "- 다양한 **연산자**를 활용한 프로그램을 작성할 수 있다.\n",
        "- **표준 입출력**과 **파일 입출력**을 활용한 프로그램을 작성할 수 있다."
      ]
    },
    {
      "cell_type": "code",
      "metadata": {
        "id": "OoO5_oZAQ5Ae"
      },
      "source": [
        "#지난 학습 복습\n",
        "print(\"hello world\")\n",
        "print('나는 공부를 잘해!')"
      ],
      "execution_count": null,
      "outputs": []
    },
    {
      "cell_type": "markdown",
      "metadata": {
        "id": "1Uyzhjs_Q5zt"
      },
      "source": [
        "## 1) 자료와 자료형\n",
        "\n",
        "\n",
        "1.   자료 : 현실 세계로부터 관찰이나 측정을 통해 얻은 값\n",
        "2.   자료형 : 자료를 특성에 따라 구분한 것\n",
        "\n",
        "\n",
        "> - 숫자형 : 수로 표현해야 하는 자료\n",
        "> - 문자형 : 문자로 표현해야 하는 자료\n",
        "> - 참 거짓형 : 참과 거짓으로 판단해야 하는 자료\n",
        "\n",
        "---\n",
        "type()를 이용하여 자료형을 확인할 수 있다.\n",
        "\n",
        "\n",
        "\n",
        "\n",
        "\n"
      ]
    },
    {
      "cell_type": "code",
      "metadata": {
        "id": "mNu3n008QFBr"
      },
      "source": [
        "a = 10\n",
        "b = '10'\n",
        "c = 10.2\n",
        "d = True\n",
        "\n",
        "print(\"type(a) = \", type(a))\n",
        "print(\"type(b) = \", type(b))\n",
        "print(\"type(c) = \", type(c))\n",
        "print(\"type(d) = \", type(d))"
      ],
      "execution_count": null,
      "outputs": []
    },
    {
      "cell_type": "markdown",
      "metadata": {
        "id": "M-WPlb-ZSBOu"
      },
      "source": [
        "## 2) 변수\n",
        "\n",
        "1. 수시로 변하는 값을 기억하기 위해 사용하는 저장 공간\n",
        "2. 한 번에 하나의 자료만 저장할 수 있음.\n",
        "3. 자기만의 고유한 이름을 가져야함."
      ]
    },
    {
      "cell_type": "code",
      "metadata": {
        "id": "wPAzXfBWSApR"
      },
      "source": [
        "# 수시로 변하는 값을 확인하자.\n",
        "num = 10\n",
        "print(\"time1 = \", num)\n",
        "num = 15\n",
        "print(\"time2 = \", num)"
      ],
      "execution_count": null,
      "outputs": []
    },
    {
      "cell_type": "code",
      "metadata": {
        "id": "38g31BiTQUcZ"
      },
      "source": [
        "#고유한 이름을 가져야함.\n",
        "#error 이유\n",
        "print(num2)"
      ],
      "execution_count": null,
      "outputs": []
    },
    {
      "cell_type": "code",
      "metadata": {
        "id": "f0Uhiy5_ULnG"
      },
      "source": [
        "# 세 개의 변수 a,b,c를 이용한 덧셈 연산\n",
        "a = 50\n",
        "b = 20\n",
        "c = a + b\n",
        "print(a, b, c)"
      ],
      "execution_count": null,
      "outputs": []
    },
    {
      "cell_type": "markdown",
      "metadata": {
        "id": "L69Il-qPULEm"
      },
      "source": [
        "변수의 활용\n",
        "1. 파이선 언어로 만든 프로그램에서는 변수가 어떤 자료형인지 정해 주지 않고 바로 숫자형 자료를 저장해서 사용함.\n",
        "\n",
        "2. C 언어, 자바 등의 일부 프로그래밍 언어는 정해진 자료형에 해당하는 자료만 저장해야 하는 엄격한 규칙을 가짐.\n",
        "\n",
        "3. 이미 저장된 자료가 있는 변수에 새로운 자료를 저장하면, 기존에 저장되어 있던 자료는 지워지고 새로운 자료가 저장됨."
      ]
    },
    {
      "cell_type": "code",
      "metadata": {
        "id": "QVczNReQU35d"
      },
      "source": [
        "#연습해보기"
      ],
      "execution_count": null,
      "outputs": []
    },
    {
      "cell_type": "markdown",
      "metadata": {
        "id": "Ez18DZnYTCT3"
      },
      "source": [
        "## 3) 산술 연산자와 대입 연산자\n",
        "\n",
        "### 연산자란\n",
        "1. 변수나 자료를 대상으로 연산하는 방법을 정의해 놓은 것\n",
        "2. 목적에 따라 **산술 연산자**, **대입 연산자**, **비교 연산자**, **논리 연산자** 등이 있음."
      ]
    },
    {
      "cell_type": "code",
      "metadata": {
        "id": "MJWoc4lsVbP2"
      },
      "source": [
        "#산술연산자\n",
        "#1. 더하기 : +\n",
        "\n",
        "#2. 빼기 : -\n",
        "\n",
        "#3. 곱하기 : *\n",
        "\n",
        "#4. 나누기 : /\n",
        "\n",
        "#5. 제곱 : **\n",
        "\n",
        "#6. 몫 : //\n",
        "\n",
        "#7. 나머지 : %"
      ],
      "execution_count": null,
      "outputs": []
    },
    {
      "cell_type": "code",
      "metadata": {
        "id": "8V8Hp6dCjPqs"
      },
      "source": [
        "#대입 연산자\n",
        "#저장 : ="
      ],
      "execution_count": null,
      "outputs": []
    },
    {
      "cell_type": "code",
      "metadata": {
        "id": "7stPN8VUjTOg"
      },
      "source": [
        "#연산자 우선순위"
      ],
      "execution_count": null,
      "outputs": []
    },
    {
      "cell_type": "code",
      "metadata": {
        "id": "J5lBp8Wljf31"
      },
      "source": [
        "#해보기 1\n",
        "a = 6\n",
        "b = 3\n",
        "c = a + b\n",
        "d = a - b\n",
        "print(c)\n",
        "print(d)\n",
        "d = d - c\n",
        "print(d)"
      ],
      "execution_count": null,
      "outputs": []
    },
    {
      "cell_type": "code",
      "metadata": {
        "id": "AeIhcw4Tjiek"
      },
      "source": [
        "#해보기 2\n",
        "x = 10\n",
        "y = 20\n",
        "z = y/x\n",
        "y = x\n",
        "x = (y%z)+1"
      ],
      "execution_count": null,
      "outputs": []
    },
    {
      "cell_type": "code",
      "metadata": {
        "id": "V_BaT8W0jjvk"
      },
      "source": [
        "#해보기 3\n",
        "a = 7\n",
        "b = 6\n",
        "c = a * b\n",
        "b = c - a\n",
        "a = (c % b) + (c - b)\n",
        "print(a)\n",
        "print(b)\n",
        "print(c)"
      ],
      "execution_count": null,
      "outputs": []
    },
    {
      "cell_type": "code",
      "metadata": {
        "id": "dOYKqHGDjle8"
      },
      "source": [
        "#해보기 4\n",
        "x = 17\n",
        "y = 20\n",
        "t = x\n",
        "x = y\n",
        "y = t\n",
        "print(x)\n",
        "print(y)"
      ],
      "execution_count": null,
      "outputs": []
    },
    {
      "cell_type": "code",
      "metadata": {
        "id": "A2bSgTeEjn5M"
      },
      "source": [
        "#해보기 5\n",
        "s = 0\n",
        "s = s + 1\n",
        "s = s + 2\n",
        "s = s + 3\n",
        "s = s + 4\n",
        "s = s + 5\n",
        "s = s + 6\n",
        "s = s + 7\n",
        "print(s)"
      ],
      "execution_count": null,
      "outputs": []
    },
    {
      "cell_type": "code",
      "metadata": {
        "id": "ThjXGsj6jpqM"
      },
      "source": [
        "#해보기 6\n",
        "x = 22\n",
        "y = 6\n",
        "z = x % y\n",
        "print(z)\n",
        "z = x + z\n",
        "y = z - y\n",
        "x = z + y * 2\n",
        "print(x)\n",
        "print(y)\n",
        "print(z)"
      ],
      "execution_count": null,
      "outputs": []
    },
    {
      "cell_type": "markdown",
      "metadata": {
        "id": "MBgMvPg4kjTI"
      },
      "source": [
        "## 4) 변수와 연산자를 이용한 프로그램 작성\n",
        "### 빵값 계산 프로그램\n",
        "- 빵의 단가는 800원이고, 구매 개수는 10개이다.\n",
        "- 전체 빵값은 '빵의 단가 x구매 개수'로 계산한다.\n",
        "- 전체 빵값의 10%를 할인해 준다.\n",
        "\n",
        "\n",
        "\n",
        "```\n",
        "price = 800\n",
        "count = 10\n",
        "total = price * count\n",
        "total = total - total * 0.1\n",
        "print(\"전체 빵값 : \", total)\n",
        "```\n",
        "> 전체 빵값 : 7200\n",
        "\n",
        "---\n",
        "\n",
        "- 빵의 단가(800)와 빵의 개수(10)가 고정되어 있어서 빵을 구매하는 상황이 변하면 원본 프로그램 코드를 수정해야 하는 문제점이 있음.\n",
        "- 빵을 구매하는 상황이 변해도 빵값을 계산할 수 있도록 프로그램이 수정되어야 함.\n"
      ]
    },
    {
      "cell_type": "markdown",
      "metadata": {
        "id": "MhbVeu5LlWtL"
      },
      "source": [
        "## 5) 표준 입출력\n",
        "표준입력 : 본 입력 장치를 통해 자료를 입력받는 것 \n",
        "\n",
        "표준 출력 : 기본 출력 장치를 통해 결과를 보여 주는 것 \n",
        "\n",
        "파이선에서의 표준 입출력 : 파이선에서는 표준 입출력을 사용하기 위해 input()과 print() 명령어를 사용함.\n",
        "\n"
      ]
    },
    {
      "cell_type": "code",
      "metadata": {
        "id": "XIyOk2dhlwcm"
      },
      "source": [
        "#빵값 구하기 프로그램\n",
        "price = int(input(\"빵값을 입력 : \"))\n",
        "count = int(input(\"빵의 개수를 입력 : \"))\n",
        "total = price * count\n",
        "total = total - total * 0.1\n",
        "print(\"전체 빵값 : \", total)"
      ],
      "execution_count": null,
      "outputs": []
    },
    {
      "cell_type": "code",
      "metadata": {
        "id": "X5bfrYAal-D7"
      },
      "source": [
        "# 체질량 지수를 구하는 프로그램\n",
        "'''\n",
        "체질량 지수(BMI)는\n",
        "(몸무게 /(키 * 키)) 10000\n",
        "\n",
        "저체중 : 20 미만\n",
        "정상 : 20 - 24\n",
        "과체중 : 25 - 29\n",
        "비만 : 30 이상\n",
        "'''\n"
      ],
      "execution_count": null,
      "outputs": []
    },
    {
      "cell_type": "markdown",
      "metadata": {
        "id": "WWX6S0hemo7t"
      },
      "source": [
        "## 6) 파일 입출력\n",
        "\n",
        "- 파일에 저장되어 있는 자료를 읽어 들여 처리하고, 그 결과를 다시 파일에 저장하는 것\n",
        "- 대량의 자료를 처리해야 하는 경우에 적합함.\n",
        "\n",
        "[학습링크](https://colab.research.google.com/github/Tajyu/sm11/blob/master/ch04/ch4_03_file_io.ipynb)"
      ]
    },
    {
      "cell_type": "markdown",
      "metadata": {
        "id": "8zUZga5GnUGl"
      },
      "source": [
        "## 과제) 행성까지의 거리-시간 계산 프로그램\n",
        "\n",
        "천체 관측에 관심이 많은 철수는 지구에서 태양계의 다른 행성까지 이동하는 데 걸리는 시간을 계산해 주는 프로그램을 만들려고 한다. 지구에서 행성까지의 거리와 이동 속도를 입력하면 행성까지 가는 데 걸리는 시간을 자동으로 계산해 주는 프로그램 코드를 작성해 보자.\n",
        "\n",
        "\n",
        "---\n",
        "\n",
        "<p><strong><span style=\"font-size: 12pt;\">&nbsp;</span></strong></p>\n",
        "<p>&nbsp;</p>\n",
        "<table class=\"__se_tbl_ext\" style=\"width: 184pt; border-collapse: collapse;\" border=\"0\" width=\"245\" cellspacing=\"0\" cellpadding=\"0\">\n",
        "<tbody>\n",
        "<tr style=\"height: 27.75pt; mso-height-source: userset;\">\n",
        "<td class=\"xl67\" style=\"border: 1px solid windowtext; width: 64pt;\" width=\"85\" height=\"37\">\n",
        "<p align=\"center\"><strong><span style=\"font-size: 12pt;\">행성의</span><br /><span style=\"font-size: 12pt;\">이름</span></strong></p>\n",
        "</td>\n",
        "<td class=\"xl66\" style=\"border-width: 1px 1px 1px medium; border-style: solid solid solid none; border-color: windowtext; width: 120pt;\" width=\"160\">\n",
        "<p align=\"center\"><strong><span style=\"font-size: 12pt;\">지구와의 거리</span></strong></p>\n",
        "</td>\n",
        "</tr>\n",
        "<tr style=\"height: 27.75pt; mso-height-source: userset;\">\n",
        "<td class=\"xl67\" style=\"border-width: medium 1px 1px; border-style: none solid solid; border-color: windowtext; width: 64pt;\" width=\"85\" height=\"37\">\n",
        "<p align=\"center\"><strong><span style=\"font-size: 12pt;\">수성</span></strong></p>\n",
        "</td>\n",
        "<td class=\"xl67\" style=\"border-width: medium 1px 1px medium; border-style: none solid solid none; border-color: windowtext; width: 120pt;\" width=\"160\">\n",
        "<p align=\"center\"><strong><span style=\"font-size: 12pt;\">9,170만 km</span></strong></p>\n",
        "</td>\n",
        "</tr>\n",
        "<tr style=\"height: 27.75pt; mso-height-source: userset;\">\n",
        "<td class=\"xl67\" style=\"border-width: medium 1px 1px; border-style: none solid solid; border-color: windowtext; width: 64pt;\" width=\"85\" height=\"37\">\n",
        "<p align=\"center\"><strong><span style=\"font-size: 12pt;\">금성</span></strong></p>\n",
        "</td>\n",
        "<td class=\"xl67\" style=\"border-width: medium 1px 1px medium; border-style: none solid solid none; border-color: windowtext; width: 120pt;\" width=\"160\">\n",
        "<p align=\"center\"><strong><span style=\"font-size: 12pt;\">4,189만 km</span></strong></p>\n",
        "</td>\n",
        "</tr>\n",
        "<tr style=\"height: 27.75pt; mso-height-source: userset;\">\n",
        "<td class=\"xl67\" style=\"border-width: medium 1px 1px; border-style: none solid solid; border-color: windowtext; width: 64pt;\" width=\"85\" height=\"37\">\n",
        "<p align=\"center\"><strong><span style=\"font-size: 12pt;\">지구</span></strong></p>\n",
        "</td>\n",
        "<td class=\"xl67\" style=\"border-width: medium 1px 1px medium; border-style: none solid solid none; border-color: windowtext; width: 120pt;\" width=\"160\">\n",
        "<p align=\"center\"><strong><span style=\"font-size: 12pt;\">-</span></strong></p>\n",
        "</td>\n",
        "</tr>\n",
        "<tr style=\"height: 27.75pt; mso-height-source: userset;\">\n",
        "<td class=\"xl67\" style=\"border-width: medium 1px 1px; border-style: none solid solid; border-color: windowtext; width: 64pt;\" width=\"85\" height=\"37\">\n",
        "<p align=\"center\"><strong><span style=\"font-size: 12pt;\">화성</span></strong></p>\n",
        "</td>\n",
        "<td class=\"xl67\" style=\"border-width: medium 1px 1px medium; border-style: none solid solid none; border-color: windowtext; width: 120pt;\" width=\"160\">\n",
        "<p align=\"center\"><strong><span style=\"font-size: 12pt;\">7,779만 km</span></strong></p>\n",
        "</td>\n",
        "</tr>\n",
        "<tr style=\"height: 27.75pt; mso-height-source: userset;\">\n",
        "<td class=\"xl67\" style=\"border-width: medium 1px 1px; border-style: none solid solid; border-color: windowtext; width: 64pt;\" width=\"85\" height=\"37\">\n",
        "<p align=\"center\"><strong><span style=\"font-size: 12pt;\">목성</span></strong></p>\n",
        "</td>\n",
        "<td class=\"xl67\" style=\"border-width: medium 1px 1px medium; border-style: none solid solid none; border-color: windowtext; width: 120pt;\" width=\"160\">\n",
        "<p align=\"center\"><strong><span style=\"font-size: 12pt;\">6억 2,832만 km</span></strong></p>\n",
        "</td>\n",
        "</tr>\n",
        "<tr style=\"height: 27.75pt; mso-height-source: userset;\">\n",
        "<td class=\"xl67\" style=\"border-width: medium 1px 1px; border-style: none solid solid; border-color: windowtext; width: 64pt;\" width=\"85\" height=\"37\">\n",
        "<p align=\"center\"><strong><span style=\"font-size: 12pt;\">토성</span></strong></p>\n",
        "</td>\n",
        "<td class=\"xl67\" style=\"border-width: medium 1px 1px medium; border-style: none solid solid none; border-color: windowtext; width: 120pt;\" width=\"160\">\n",
        "<p align=\"center\"><strong><span style=\"font-size: 12pt;\">12억 8,058만 km</span></strong></p>\n",
        "</td>\n",
        "</tr>\n",
        "<tr style=\"height: 27.75pt; mso-height-source: userset;\">\n",
        "<td class=\"xl67\" style=\"border-width: medium 1px 1px; border-style: none solid solid; border-color: windowtext; width: 64pt;\" width=\"85\" height=\"37\">\n",
        "<p align=\"center\"><strong><span style=\"font-size: 12pt;\">천왕성</span></strong></p>\n",
        "</td>\n",
        "<td class=\"xl67\" style=\"border-width: medium 1px 1px medium; border-style: none solid solid none; border-color: windowtext; width: 120pt;\" width=\"160\">\n",
        "<p align=\"center\"><strong><span style=\"font-size: 12pt;\">27억 1,973만 km</span></strong></p>\n",
        "</td>\n",
        "</tr>\n",
        "<tr style=\"height: 27.75pt; mso-height-source: userset;\">\n",
        "<td class=\"xl67\" style=\"border-width: medium 1px 1px; border-style: none solid solid; border-color: windowtext; width: 64pt;\" width=\"85\" height=\"37\">\n",
        "<p align=\"center\"><strong><span style=\"font-size: 12pt;\">해왕성</span></strong></p>\n",
        "</td>\n",
        "<td class=\"xl67\" style=\"border-width: medium 1px 1px medium; border-style: none solid solid none; border-color: windowtext; width: 120pt;\" width=\"160\">\n",
        "<p align=\"center\"><strong><span style=\"font-size: 12pt;\">43억 5,785만 km</span></strong></p>\n",
        "</td>\n",
        "</tr>\n",
        "</tbody>\n",
        "</table>\n",
        "<p>&nbsp;</p>\n"
      ]
    },
    {
      "cell_type": "markdown",
      "metadata": {
        "id": "w-0phc12o3lh"
      },
      "source": [
        "> 거리 = 시간 * 속력<br>\n",
        "> 시간 = 거리 / 속력<br>\n",
        "> 속력 = 거리 / 시간<br>\n",
        "\n",
        "---\n",
        "> 1 분 = 60초<br>\n",
        "> 1 시간 = 60분<br>\n",
        "> 1 일 = 24 시간<br>\n",
        "> 1 달 = 30일<br>\n",
        "> 1 년 = 365일<br>\n"
      ]
    },
    {
      "cell_type": "code",
      "metadata": {
        "id": "RbVurUwHo0Hr"
      },
      "source": [
        "##만들기"
      ],
      "execution_count": null,
      "outputs": []
    }
  ]
}