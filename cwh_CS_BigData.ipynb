{
  "nbformat": 4,
  "nbformat_minor": 0,
  "metadata": {
    "colab": {
      "name": "cwh_CS_BigData.ipynb",
      "provenance": [],
      "collapsed_sections": [],
      "authorship_tag": "ABX9TyPhYmQoHGavy3+NJRxCuIWs",
      "include_colab_link": true
    },
    "kernelspec": {
      "name": "python3",
      "display_name": "Python 3"
    }
  },
  "cells": [
    {
      "cell_type": "markdown",
      "metadata": {
        "id": "view-in-github",
        "colab_type": "text"
      },
      "source": [
        "<a href=\"https://colab.research.google.com/github/KwonWooChan/ColabNoteBook/blob/master/cwh_CS_BigData.ipynb\" target=\"_parent\"><img src=\"https://colab.research.google.com/assets/colab-badge.svg\" alt=\"Open In Colab\"/></a>"
      ]
    },
    {
      "cell_type": "markdown",
      "metadata": {
        "id": "cOYPnYXXcAg0",
        "colab_type": "text"
      },
      "source": [
        "# <center>빅데이터를 활용한 분석</center>\n",
        "<br>\n",
        "<center>2020학년도 1학기 청원고등학교 정보  \n",
        "<br>정보 권우찬 선생님</center>\n",
        "\n",
        "---\n",
        "\n",
        "\n"
      ]
    },
    {
      "cell_type": "markdown",
      "metadata": {
        "id": "JvRFknGueyWa",
        "colab_type": "text"
      },
      "source": [
        "## 빅데이터란\n",
        "\n",
        "### 정의\n",
        "---\n",
        " 빅 데이터는 통상적으로 사용되는 데이터 수집, 관리 및 처리 소프트웨어의 수용 한계를 넘어서는 크기의 데이터를 말한다. 빅 데이터의 사이즈는 단일 데이터 집합의 크기가 수십 테라바이트에서 수 페타바이트에 이르며, 그 크기가 끊임없이 변화하는 것이 특징이다.\n",
        "\n",
        "### 특징과 의미\n",
        "---\n",
        " 빅데이터의 공통적 특징은 3V로 설명할 수 있다. 속도는 대용량의 데이터를 빠르게 처리하고 분석할 수 있는 속성이다. 융복합 환경에서 디지털 데이터는 매우 빠른 속도로 생산되므로 이를 실시간으로 저장, 유통, 수집, 분석처리가 가능한 성능을 의미한다. 다양성은 다양한 종류의 데이터를 의미하며 정형화의 종류에 따라 정형, 반정형, 비정형 데이터로 분류할 수 있다.  \n",
        " 빅데이터의 특징은 3V로 요약하는 것이 일반적이다. 즉 데이터의 **양(Volume)**, 데이터 **생성 속도(Velocity)**, **형태의 다양성(Variety)**을 의미한다. 최근에는 **가치(Value)**나 **복잡성(Complexity)**을 덧붙이기도 한다.  \n",
        "  이처럼 다양하고 방대한 규모의 데이터는 미래 경쟁력의 우위를 좌우하는 중요한 자원으로 활용될 수 있다는 점에서 주목받고 있다. 대규모 데이터를 분석해서 의미있는 정보를 찾아내는 시도는 예전에도 존재했다. 그러나 현재의 빅데이터 환경은 과거와 비교해 데이터의 양은 물론 질과 다양성 측면에서 패러다임의 전환을 의미한다.이런 관점에서 빅데이터는 산업혁명 시기의 석탄처럼 IT와 스마트혁명 시기에 혁신과 경쟁력 강화, 생산성 향상을 위한 중요한 원천으로 간주되고 있다. 데이터 속도은 다양한 형태의 데이터를 포함하는 것을 뜻한다. 정형 데이터 뿐만 아니라 사진, 오디오, 비디오, 소셜 미디어 데이터, 로그 파일 등과 같은 비정형 데이터도 포함된다.\n",
        "\n",
        "> 위키피디아_빅데이터   \n",
        "https://ko.wikipedia.org/wiki/빅_데이터  \n",
        ">\n"
      ]
    },
    {
      "cell_type": "markdown",
      "metadata": {
        "id": "qeIK-9KFizfF",
        "colab_type": "text"
      },
      "source": [
        "## 수업 목표\n",
        "\n",
        "\n",
        "*   공공데이터 포털을 사용하여 자료를 수집할 수 있다.\n",
        "*   자료들을 원하는 목적에 맞게 정보로 가공할 수 있다.\n",
        "*   정보를 구조화하여 표현할 수 있다.   \n",
        "\n",
        "\n",
        "![수업목표](https://github.com/KwonWooChan/test/blob/master/%EA%B3%A0%EB%93%B1%ED%95%99%EA%B5%90_%EC%A0%95%EB%B3%B4_%EB%B9%85%EB%8D%B0%EC%9D%B4%ED%84%B0_%EC%88%98%EC%97%85ppt.jpg?raw=true)\n",
        "\n"
      ]
    },
    {
      "cell_type": "markdown",
      "metadata": {
        "id": "wDE-mmEzmgOD",
        "colab_type": "text"
      },
      "source": [
        "## 문제 상황 발생\n",
        "  \n",
        "  청원고등학교를 다니고 있는 기태가 공공 데이터를 활용하여 월별 기온의 변화에 대한 데이터와, 감기 환자의 데이터를 수집하여 분석을 진행하여. 기온 변화에 따른 감기 환자의 증감 정보를 보여주는 '감기 예방 알림이'를 만들려고 한다.\n",
        "\n",
        "\n",
        "\n",
        "```\n",
        "   1. 공공 데이터를 사용하여 빅데이터를 수집한다.\n",
        "   2. 정보를 다양한 형태로 표현한다.\n",
        "```\n",
        "\n"
      ]
    },
    {
      "cell_type": "markdown",
      "metadata": {
        "id": "bGKVg2AOpdiV",
        "colab_type": "text"
      },
      "source": [
        "## 활동1_공공데이터 포털 사용하기\n",
        "  \n",
        "  ---\n",
        "\n",
        "### 공공데이터 포털 OPEN API 사용하는 방법은 아래에서 확인하세요.\n",
        "\n",
        "  https://jeong-pro.tistory.com/143\n",
        "\n",
        "\n",
        "\n",
        "1.   공공데이터 포털에 접속한다.\n",
        "2.   로그인을 한다.\n",
        "3.   필요한 데이터를 탐색한다.\n",
        "4.   데이터를 찾았다면 활용신청을 한다.\n",
        "5.   활용신청을 한자료를 적절히 사용한다.\n",
        "> [공공데이터포털]  \n",
        "> *   data.go.kr\n",
        ">\n",
        ">[로그인] \n",
        "![로그인](https://github.com/KwonWooChan/test/blob/master/01%EB%A1%9C%EA%B7%B8%EC%9D%B8.PNG?raw=true)\n",
        ">\n",
        ">[활용신청]\n",
        "![활용신청](https://github.com/KwonWooChan/test/blob/master/02%ED%99%9C%EC%9A%A9%EC%8B%A0%EC%B2%AD.PNG?raw=true)\n",
        ">\n",
        "\n"
      ]
    },
    {
      "cell_type": "code",
      "metadata": {
        "id": "YCAiLrwd1IHk",
        "colab_type": "code",
        "colab": {}
      },
      "source": [
        ""
      ],
      "execution_count": null,
      "outputs": []
    }
  ]
}