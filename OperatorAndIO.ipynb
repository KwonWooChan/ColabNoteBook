{
  "nbformat": 4,
  "nbformat_minor": 0,
  "metadata": {
    "colab": {
      "name": "OperatorAndIO.ipynb",
      "provenance": [],
      "collapsed_sections": [],
      "toc_visible": true,
      "authorship_tag": "ABX9TyNK+sHAVwikHI/ZtRjYgo6J",
      "include_colab_link": true
    },
    "kernelspec": {
      "name": "python3",
      "display_name": "Python 3"
    }
  },
  "cells": [
    {
      "cell_type": "markdown",
      "metadata": {
        "id": "view-in-github",
        "colab_type": "text"
      },
      "source": [
        "<a href=\"https://colab.research.google.com/github/KwonWooChan/ColabNoteBook/blob/master/OperatorAndIO.ipynb\" target=\"_parent\"><img src=\"https://colab.research.google.com/assets/colab-badge.svg\" alt=\"Open In Colab\"/></a>"
      ]
    },
    {
      "cell_type": "markdown",
      "metadata": {
        "id": "4oYRZ6a7aGOz"
      },
      "source": [
        "# Ⅲ. 문제해결과 프로그래밍\n"
      ]
    },
    {
      "cell_type": "markdown",
      "metadata": {
        "id": "mUTtPeFDEDIR"
      },
      "source": [
        "## 3.3.3 연산자  \n",
        "---\n",
        "### 다양한 연산자의 종류  \n",
        "\n",
        " \n",
        " 파이썬의 연산자는 기능에 따라 **단항, 산술, 비교, 논리, 대입** 연산자 등으로 분류된다. 한 수식에 여러개의 연산자가 사용될 때, 연산자의 우선순위와 괄호의 결합 형태에 따라 연산순서가 달라진다. \n",
        " \n",
        " [참고자료_Python 3.4 공부 좀 해볼까?](https://https://wikidocs.net/1043)"
      ]
    },
    {
      "cell_type": "markdown",
      "metadata": {
        "id": "shbQYaRacA5e"
      },
      "source": [
        "<div class=\"page-content tex2jax_process\">\n",
        "    <h3 id=\"arithmetic-operators\">산술 연산자 (Arithmetic Operators):</h3>\n",
        "산술연산자는 +, -, *, /과 같은 사칙연산에 사용되고 연산 결과가 숫자로 나타난다.<br>\n",
        "<p>a = 10, b = 20, c = 3 이라 가정한다.</p>\n",
        "<table>\n",
        "<thead>\n",
        "<tr>\n",
        "<th align=\"center\">Operator</th>\n",
        "<th align=\"center\">Description</th>\n",
        "<th align=\"center\">Example</th>\n",
        "<th align=\"center\">연산방향</th>\n",
        "</tr>\n",
        "</thead>\n",
        "<tbody>\n",
        "<tr>\n",
        "<td align=\"center\">+</td>\n",
        "<td align=\"center\">더하기</td>\n",
        "<td align=\"center\">a + b = 30</td>\n",
        "<th align=\"center\">→</th>\n",
        "</tr>\n",
        "<tr>\n",
        "<td align=\"center\">-</td>\n",
        "<td align=\"center\">빼기</td>\n",
        "<td align=\"center\">a - b = -10</td>\n",
        "<th align=\"center\">→</th>\n",
        "</tr>\n",
        "<tr>\n",
        "<td align=\"center\">*</td>\n",
        "<td align=\"center\">곱하기</td>\n",
        "<td align=\"center\">a * b = 200</td>\n",
        "<th align=\"center\">→</th>\n",
        "</tr>\n",
        "<tr>\n",
        "<td align=\"center\">/</td>\n",
        "<td align=\"center\">나누기</td>\n",
        "<td align=\"center\">b / a = 2.0</td>\n",
        "<th align=\"center\">→</th>\n",
        "</tr>\n",
        "<tr>\n",
        "<td align=\"center\">%</td>\n",
        "<td align=\"center\">나머지</td>\n",
        "<td align=\"center\">b % a = 0</td>\n",
        "<th align=\"center\">→</th>\n",
        "</tr>\n",
        "<tr>\n",
        "<td align=\"center\">**</td>\n",
        "<td align=\"center\">제곱</td>\n",
        "<td align=\"center\">a ** c = 1000</td>\n",
        "<th align=\"center\">→</th>\n",
        "</tr>\n",
        "<tr>\n",
        "<td align=\"center\">//</td>\n",
        "<td align=\"center\">몫</td>\n",
        "<td align=\"center\">a // c = 3</td>\n",
        "<th align=\"center\">→</th>\n",
        "</tr>\n",
        "</tbody>\n",
        "</table>\n",
        "</div>"
      ]
    },
    {
      "cell_type": "code",
      "metadata": {
        "id": "mG03RbNUtaio"
      },
      "source": [
        "num1 = 10\n",
        "num2 = 20\n",
        "num3 = 30\n",
        "num4 = 8"
      ],
      "execution_count": 5,
      "outputs": []
    },
    {
      "cell_type": "code",
      "metadata": {
        "id": "KKJTzVwRt23M"
      },
      "source": [
        "# 덧셈\n",
        "\n",
        "print(num1 + num2)"
      ],
      "execution_count": null,
      "outputs": []
    },
    {
      "cell_type": "code",
      "metadata": {
        "id": "9jYYXtSGt_eK"
      },
      "source": [
        "# 뺄셈\n",
        "\n",
        "print(num3 - num2)"
      ],
      "execution_count": null,
      "outputs": []
    },
    {
      "cell_type": "code",
      "metadata": {
        "id": "vrstxNs_uGyj"
      },
      "source": [
        "# 곱셈\n",
        "\n",
        "print(num2 * num3)"
      ],
      "execution_count": null,
      "outputs": []
    },
    {
      "cell_type": "code",
      "metadata": {
        "id": "uNc4DzZBuLMj"
      },
      "source": [
        "# 나누기\n",
        "print(num2 / num4)"
      ],
      "execution_count": null,
      "outputs": []
    },
    {
      "cell_type": "code",
      "metadata": {
        "id": "2ZWvHhnAuYZM"
      },
      "source": [
        "# 나머지\n",
        "print(num3 % num4)"
      ],
      "execution_count": null,
      "outputs": []
    },
    {
      "cell_type": "code",
      "metadata": {
        "id": "Tzsp0NQ1ue7L"
      },
      "source": [
        "# 제곱\n",
        "print(num4 ** 2)"
      ],
      "execution_count": null,
      "outputs": []
    },
    {
      "cell_type": "code",
      "metadata": {
        "id": "sK0HTSGbusDb"
      },
      "source": [
        "# 몫\n",
        "print(num3 // num4)"
      ],
      "execution_count": null,
      "outputs": []
    },
    {
      "cell_type": "markdown",
      "metadata": {
        "id": "zbdEzTLbcOqm"
      },
      "source": [
        "<div class=\"page-content tex2jax_process\">\n",
        "    <h3 id=\"comparison-operators\">비교 연산자 (Comparison Operators):</h3>\n",
        "비교연산자는 두 피연산자를 비교하여 연산 결과가 참(True), 거짓(False)의 형태로 나타낸다.\n",
        "<p>a = 10, b = 20 이라 가정한다.</p>\n",
        "<table>\n",
        "<thead>\n",
        "<tr>\n",
        "<th align=\"center\">Operator</th>\n",
        "<th align=\"center\">Description</th>\n",
        "<th align=\"center\">Example</th>\n",
        "<th align=\"center\">연산방향</th>\n",
        "</tr>\n",
        "</thead>\n",
        "<tbody>\n",
        "<tr>\n",
        "<td align=\"center\">==</td>\n",
        "<td align=\"center\">값이 동일하다</td>\n",
        "<td align=\"center\">(a == b) → false</td>\n",
        "<th align=\"center\">→</th>\n",
        "</tr>\n",
        "<tr>\n",
        "<td align=\"center\">!=</td>\n",
        "<td align=\"center\">값이 동일하지 않다</td>\n",
        "<td align=\"center\">(a != b) → true</td>\n",
        "<th align=\"center\">→</th>\n",
        "</tr>\n",
        "<tr>\n",
        "<td align=\"center\">&gt;</td>\n",
        "<td align=\"center\">왼쪽 값이 오른쪽 값보다 크다</td>\n",
        "<td align=\"center\">(a &gt; b) → false</td>\n",
        "<th align=\"center\">→</th>\n",
        "</tr>\n",
        "<tr>\n",
        "<td align=\"center\">&lt;</td>\n",
        "<td align=\"center\">왼쪽 값이 오른쪽 값보다 작다</td>\n",
        "<td align=\"center\">(a &lt; b) → true</td>\n",
        "<th align=\"center\">→</th>\n",
        "</tr>\n",
        "<tr>\n",
        "<td align=\"center\">&gt;=</td>\n",
        "<td align=\"center\">왼쪽 값이 오른쪽 값보다 크거나 동일하다</td>\n",
        "<td align=\"center\">(a &gt;= b) → false</td>\n",
        "<th align=\"center\">→</th>\n",
        "</tr>\n",
        "<tr>\n",
        "<td align=\"center\">&lt;=</td>\n",
        "<td align=\"center\">왼쪽 값이 오른쪽 값보다 작거나 동일하다</td>\n",
        "<td align=\"center\">(a &lt;= b) → true</td>\n",
        "<th align=\"center\">→</th>\n",
        "</tr>\n",
        "</tbody>\n",
        "</table>\n",
        "</div>"
      ]
    },
    {
      "cell_type": "code",
      "metadata": {
        "id": "-EVOrGk4uysz"
      },
      "source": [
        "num1 = 4\n",
        "num2 = 8"
      ],
      "execution_count": null,
      "outputs": []
    },
    {
      "cell_type": "code",
      "metadata": {
        "id": "wYeHLCbau4Q7"
      },
      "source": [
        "# 동일하다\n",
        "num1 == num2"
      ],
      "execution_count": null,
      "outputs": []
    },
    {
      "cell_type": "code",
      "metadata": {
        "id": "uig0gISfu9Wz"
      },
      "source": [
        "# 동일하지 않다\n",
        "num1 != num2"
      ],
      "execution_count": null,
      "outputs": []
    },
    {
      "cell_type": "code",
      "metadata": {
        "id": "ivmvUV54vA77"
      },
      "source": [
        "# 왼쪽 값이 오른쪽 값보다 크다\n",
        "num1 > num2"
      ],
      "execution_count": null,
      "outputs": []
    },
    {
      "cell_type": "code",
      "metadata": {
        "id": "45gFLpMXvG-C"
      },
      "source": [
        "# 왼쪽 값이 오른쪽 값보다 작다\n",
        "num1 < num2"
      ],
      "execution_count": null,
      "outputs": []
    },
    {
      "cell_type": "code",
      "metadata": {
        "id": "xzjSgs1lvLyz"
      },
      "source": [
        "# 왼쪽 값이 오른쪽 값보다 크거나 같다.\n",
        "num1 >= num2"
      ],
      "execution_count": null,
      "outputs": []
    },
    {
      "cell_type": "code",
      "metadata": {
        "id": "d1GHqwrjvRTr",
        "outputId": "bfa11f51-7893-424c-9b16-947ed4e64b37",
        "colab": {
          "base_uri": "https://localhost:8080/",
          "height": 35
        }
      },
      "source": [
        "# 왼쪽 값이 오른쪽 값보다 작거나 같다.\n",
        "num1 <= num2"
      ],
      "execution_count": 11,
      "outputs": [
        {
          "output_type": "execute_result",
          "data": {
            "text/plain": [
              "True"
            ]
          },
          "metadata": {
            "tags": []
          },
          "execution_count": 11
        }
      ]
    },
    {
      "cell_type": "markdown",
      "metadata": {
        "id": "kIduQjAQciWG"
      },
      "source": [
        "<div class=\"page-content tex2jax_process\">\n",
        "    <h3 id=\"logical-operators\">논리 연산자 (Logical Operators):</h3>\n",
        "논리 연산자는 연산결과가 참(Ture), 거짓(false)의 형태로 나타난다.\n",
        "<p>a = True, b = False 이라 가정한다.</p>\n",
        "<table>\n",
        "<thead>\n",
        "<tr>\n",
        "<th align=\"center\">Operator</th>\n",
        "<th align=\"center\">Description</th>\n",
        "<th align=\"center\">Example</th>\n",
        "<th align=\"center\">연산방향</th>\n",
        "</tr>\n",
        "</thead>\n",
        "<tbody>\n",
        "<tr>\n",
        "<td align=\"center\">and</td>\n",
        "<td align=\"center\">논리 AND 연산. 둘다 참일때만 참</td>\n",
        "<td align=\"center\">(a and b) = False</td>\n",
        "<th align=\"center\">→</th>\n",
        "</tr>\n",
        "<tr>\n",
        "<td align=\"center\">or</td>\n",
        "<td align=\"center\">논리 OR 연산. 둘 중 하나만 참이여도 참</td>\n",
        "<td align=\"center\">(a or b) = True</td>\n",
        "<th align=\"center\">→</th>\n",
        "</tr>\n",
        "<tr>\n",
        "<td align=\"center\">not</td>\n",
        "<td align=\"center\">논리 NOT 연산. 논리 상태를 반전</td>\n",
        "<td align=\"center\">not(a and b) = True</td>\n",
        "<th align=\"center\">→</th>\n",
        "</tr>\n",
        "</tbody>\n",
        "</table>\n",
        "</div>"
      ]
    },
    {
      "cell_type": "code",
      "metadata": {
        "id": "21qitcMHvX5T"
      },
      "source": [
        "signal1 = True\n",
        "signal2 = False"
      ],
      "execution_count": 8,
      "outputs": []
    },
    {
      "cell_type": "code",
      "metadata": {
        "id": "R3ZTZ6IDveIT"
      },
      "source": [
        "signal1 and siganl2"
      ],
      "execution_count": null,
      "outputs": []
    },
    {
      "cell_type": "code",
      "metadata": {
        "id": "ycqdZqc2vihj"
      },
      "source": [
        "siganl1 or siganl2"
      ],
      "execution_count": null,
      "outputs": []
    },
    {
      "cell_type": "code",
      "metadata": {
        "id": "6ygELyUXvks8"
      },
      "source": [
        "signal1 and not signal2"
      ],
      "execution_count": null,
      "outputs": []
    },
    {
      "cell_type": "markdown",
      "metadata": {
        "id": "TVmms2HicjGW"
      },
      "source": [
        "<div class=\"page-content tex2jax_process\">\n",
        "    <h3 id=\"assignment-operators\">할당 연산자 / 대입연산자 (Assignment Operators):</h3>\n",
        "대입연산자를 사용하는 연산에서 결괏값이 저장되는 변수가 연산에 사용되는 경우, 간소화된 축약형 연산자를 사용할 수 있다.\n",
        "<p>a = 10, b = 20 이라 가정한다.</p>\n",
        "<table>\n",
        "<thead>\n",
        "<tr>\n",
        "<th align=\"center\">Operator</th>\n",
        "<th align=\"center\">Description</th>\n",
        "<th align=\"center\">Example</th>\n",
        "<th align=\"center\">연산방향</th>\n",
        "</tr>\n",
        "</thead>\n",
        "<tbody>\n",
        "<tr>\n",
        "<td align=\"center\">=</td>\n",
        "<td align=\"center\">왼쪽 변수에 오른쪽 값을 할당한다</td>\n",
        "<td align=\"center\">c = a + b → c = a + b</td>\n",
        "<th align=\"center\">←</th>\n",
        "</tr>\n",
        "<tr>\n",
        "<td align=\"center\">+=</td>\n",
        "<td align=\"center\">왼쪽 변수에 오른쪽 값을 더하고 결과를 왼쪽변수에 할당</td>\n",
        "<td align=\"center\">c += a → c = c + a</td>\n",
        "<th align=\"center\">←</th>\n",
        "</tr>\n",
        "<tr>\n",
        "<td align=\"center\">-=</td>\n",
        "<td align=\"center\">왼쪽 변수에서 오른쪽 값을 빼고 결과를 왼쪽변수에 할당</td>\n",
        "<td align=\"center\">c -= a → c = c - a</td>\n",
        "<th align=\"center\">←</th>\n",
        "</tr>\n",
        "<tr>\n",
        "<td align=\"center\">*=</td>\n",
        "<td align=\"center\">왼쪽 변수에 오른쪽 값을 곱하고 결과를 왼쪽변수에 할당</td>\n",
        "<td align=\"center\">c *= a → c = c * a</td>\n",
        "<th align=\"center\">←</th>\n",
        "</tr>\n",
        "<tr>\n",
        "<td align=\"center\">/=</td>\n",
        "<td align=\"center\">왼쪽 변수에서 오른쪽 값을 나누고 결과를 왼쪽변수에 할당</td>\n",
        "<td align=\"center\">c /= a → c = c / a</td>\n",
        "<th align=\"center\">←</th>\n",
        "</tr>\n",
        "<tr>\n",
        "<td align=\"center\">%=</td>\n",
        "<td align=\"center\">왼쪽 변수에서 오른쪽 값을 나눈 나머지의 결과를 왼쪽변수에 할당</td>\n",
        "<td align=\"center\">c %= a → c = c % a</td>\n",
        "<th align=\"center\">←</th>\n",
        "</tr>\n",
        "<tr>\n",
        "<td align=\"center\">**=</td>\n",
        "<td align=\"center\">왼쪽 변수에 오른쪽 값만큼 제곱을 하고 결과를 왼쪽변수에 할당</td>\n",
        "<td align=\"center\">c **= a → c = c &#42;&#42; a</td>\n",
        "<th align=\"center\">←</th>\n",
        "</tr>\n",
        "<tr>\n",
        "<td align=\"center\">//=</td>\n",
        "<td align=\"center\">왼쪽 변수에서 오른쪽 값을 나눈 몫의 결과를 왼쪽변수에 할당</td>\n",
        "<td align=\"center\">c //= a → c = c // a</td>\n",
        "<th align=\"center\">←</th>\n",
        "</tr>\n",
        "</tbody>\n",
        "</table>\n",
        "</div>\n"
      ]
    },
    {
      "cell_type": "code",
      "metadata": {
        "id": "yMk8AvelvtmN"
      },
      "source": [
        "# 예제 0부터 100까지 더하는 수\n",
        "sum = 0\n",
        "for a in range(1,101):\n",
        "   sum += a\n",
        "   #sum = sum + a\n",
        "print(sum)"
      ],
      "execution_count": null,
      "outputs": []
    },
    {
      "cell_type": "markdown",
      "metadata": {
        "id": "KCQgb6ccbqDY"
      },
      "source": [
        "<div class=\"page-content tex2jax_process\">\n",
        "    <h3 id=\"operators-precedence\">연산자 우선순위 (Operators Precedence):</h3>\n",
        "<p>가장 높은 우선 순위에서 가장 낮은 모든 연산자를 보여 준다.</p>\n",
        "\n",
        "<table>\n",
        "<thead>\n",
        "<tr>\n",
        "<th align=\"center\">Operator</th>\n",
        "<th align=\"center\">Description</th>\n",
        "</tr>\n",
        "</thead>\n",
        "<tbody>\n",
        "<tr>\n",
        "<td align=\"center\">**</td>\n",
        "<td align=\"center\">지수 (전원으로 인상)</td>\n",
        "</tr>\n",
        "<tr>\n",
        "<td align=\"center\">~ + -</td>\n",
        "<td align=\"center\">Ccomplement, 단항 플러스와 마이너스 (마지막 두의 메서드 이름은 + @이며, - @)</td>\n",
        "</tr>\n",
        "<tr>\n",
        "<td align=\"center\">* / % //</td>\n",
        "<td align=\"center\">곱하기, 나누기, 나머지, 몫</td>\n",
        "</tr>\n",
        "<tr>\n",
        "<td align=\"center\">+ -</td>\n",
        "<td align=\"center\">덧셈과 뺄셈</td>\n",
        "</tr>\n",
        "<tr>\n",
        "<td align=\"center\">&gt;&gt; &lt;&lt;</td>\n",
        "<td align=\"center\">좌우 비트 시프트</td>\n",
        "</tr>\n",
        "<tr>\n",
        "<td align=\"center\">&amp;</td>\n",
        "<td align=\"center\">비트 'AND'</td>\n",
        "</tr>\n",
        "<tr>\n",
        "<td align=\"center\">^ &#124;</td>\n",
        "<td align=\"center\">비트 전용 'OR'와 정기적 인 'OR'</td>\n",
        "</tr>\n",
        "<tr>\n",
        "<td align=\"center\">&lt;= &lt; &gt; &gt;=</td>\n",
        "<td align=\"center\">비교 연산자</td>\n",
        "</tr>\n",
        "<tr>\n",
        "<td align=\"center\">&lt;&gt; == !=</td>\n",
        "<td align=\"center\">평등 연산자</td>\n",
        "</tr>\n",
        "<tr>\n",
        "<td align=\"center\">= %= /= //= -= += *= &#42;&#42;=</td>\n",
        "<td align=\"center\">할당 연산자</td>\n",
        "</tr>\n",
        "<tr>\n",
        "<td align=\"center\">is is not</td>\n",
        "<td align=\"center\">식별 연산자</td>\n",
        "</tr>\n",
        "<tr>\n",
        "<td align=\"center\">in not in</td>\n",
        "<td align=\"center\">맴버 연산자</td>\n",
        "</tr>\n",
        "<tr>\n",
        "<td align=\"center\">not or and</td>\n",
        "<td align=\"center\">논리 연산자</td>\n",
        "</tr>\n",
        "</tbody>\n",
        "</table>\n",
        "</div>"
      ]
    },
    {
      "cell_type": "code",
      "metadata": {
        "id": "t9UJYYT1ZiMu"
      },
      "source": [
        "# 연습문제\n",
        "\n",
        "a = 2\n",
        "b = 8\n",
        "c = 3\n",
        "\n",
        "a**c+b<b*a==True"
      ],
      "execution_count": null,
      "outputs": []
    },
    {
      "cell_type": "code",
      "metadata": {
        "id": "_TmaEmp025vT"
      },
      "source": [
        "# 교과서 133p 스스로 해결하기\n",
        "# 1. (가), (나)에 필요한 연산자를 채워 사용자가 금액을 입력하면 50,000원, 10,000원, 5,000원, 1,000원 지폐를 최소한의 개수로 출금하는 프로그램을 만들어보자\n",
        "\n",
        "money = int(input(\"Total Money : \"))\n",
        "\n",
        "m50000 = money ___가___ 50000\n",
        "money = money ___나___50000\n",
        "\n",
        "m10000 = money ___가___10000\n",
        "money = money ___나___10000\n",
        "\n",
        "m5000 = money ___가___ 5000\n",
        "money = money ___나___5000\n",
        "\n",
        "m1000 = money ___가___ 1000\n",
        "money = money ___나___1000\n",
        "\n",
        "print(\"50000원 : %d \\n10000원 : %d \\n5000원 : %d \\n1000원 : %d \\n잔돈 : %d \\n\"%(m50000, m10000, m5000, m1000, money))"
      ],
      "execution_count": null,
      "outputs": []
    },
    {
      "cell_type": "markdown",
      "metadata": {
        "id": "Cxk6KBXk4ZSx"
      },
      "source": [
        "## 3.4 표준입출력과 파일 입출력\n",
        "\n",
        "---\n",
        "\n",
        "### 프로그램 처리 과정  \n",
        " 웹 사이트에 로그인할 때, 프로그램 처리 과정은 크게 3단계로 구분할 수 있다. 아이디와 비밀번호를 입력하는 입력단계, 아이디와 비밀번호를 확인하는 처리단계, 로그인 화면이나 알림 메시지를 보여주는 출력 단계로 구분할 수 있다.  \n",
        "\n",
        " ### 표준입출력  \n",
        "  &nbsp;표준 입력은 프로그램으로 입력되는 자료의  흐름(Stream)을 말하며, 대부분의 경우 키보드를 통해 이루어진다 표준 출력은 프로그램에서 출력되는 자료의 흐름을 말하며, 대부분의 경우 모니터를 통해 이루어진다. \n",
        "\n",
        "&nbsp;파이썬의 표준 입력 함수는 **input()**, 표준 출력 함수는 **print()**이다."
      ]
    },
    {
      "cell_type": "code",
      "metadata": {
        "id": "MqIyCNdx4Ymr"
      },
      "source": [
        "name = input(\"이름을 입력하시오 : \")\n",
        "print(\"안녕하세요 \" + name +\" 정말 날씨가 좋군요.\")"
      ],
      "execution_count": null,
      "outputs": []
    },
    {
      "cell_type": "markdown",
      "metadata": {
        "id": "ddXK9zY8_-Zt"
      },
      "source": [
        "### 파일입출력  \n",
        "&nbsp; 표준입출력을 통해 출력된 정보는 프로그램이 종료되면 저장되지 않고 사라진다. 또한 많은 자료들을 표준 입력을 통해 일일이 입력한다면 번거롭기도 하겠지만 잘못 입력할 가능성도 커진다. 이때 파일로부터 자료를 입력받고, 처리된 정보를 파일에 출력하는 파일 입출력을 활용할 수 있다."
      ]
    },
    {
      "cell_type": "code",
      "metadata": {
        "id": "MJnCtzgU_2Gb"
      },
      "source": [
        "f1 = open(\"movie.txt\", \"w\")\n",
        "title = input(\"영화제목을 입력하시오 : \")\n",
        "fee = input(\"티켓 비용을 입력하시오. : \")\n",
        "f1.write(title+\"\\n\")\n",
        "f1.write(fee)\n",
        "f1.close()\n",
        "f1 = open(\"movie.txt\", \"r\")\n",
        "title = f1.readline()\n",
        "fee = f1.readline()\n",
        "print(\"영화제목 \", title, end=\" \")\n",
        "print(\"티켓 요금 :\", fee)\n",
        "f1.close()"
      ],
      "execution_count": null,
      "outputs": []
    }
  ]
}