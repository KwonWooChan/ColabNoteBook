{
  "nbformat": 4,
  "nbformat_minor": 0,
  "metadata": {
    "colab": {
      "name": "Function.ipynb",
      "provenance": [],
      "collapsed_sections": [],
      "toc_visible": true,
      "authorship_tag": "ABX9TyPGS8IPDv07HoQRDaVwzkrd",
      "include_colab_link": true
    },
    "kernelspec": {
      "name": "python3",
      "display_name": "Python 3"
    }
  },
  "cells": [
    {
      "cell_type": "markdown",
      "metadata": {
        "id": "view-in-github",
        "colab_type": "text"
      },
      "source": [
        "<a href=\"https://colab.research.google.com/github/KwonWooChan/ColabNoteBook/blob/master/Function.ipynb\" target=\"_parent\"><img src=\"https://colab.research.google.com/assets/colab-badge.svg\" alt=\"Open In Colab\"/></a>"
      ]
    },
    {
      "cell_type": "markdown",
      "metadata": {
        "id": "IwEaIL59AQPa"
      },
      "source": [
        "# Ⅲ 문제해결과 프로그래밍\n",
        "## 3.3 프로그래밍"
      ]
    },
    {
      "cell_type": "markdown",
      "metadata": {
        "id": "cK3KvCmeAjWo"
      },
      "source": [
        "## 3.3.7 함수의 활용\n",
        "\n",
        "우리 주변에는 특정 기능을 반복해서 처리하는 것들이 많이 있다. 음료수 자판기는 사용자가 음료수를 선택 버튼을 누를 때마다 투입한 금액이 충분한지를 판단한 후, 해당 음료를 배출구로 내보내는 동작을 반복적으로 처리한다.  \n",
        "프로그래밍 언어에도 음료수 선택 버튼과 유사한 역할을 하는 것이 있는데, 이를 함수라 한다.  \n",
        "![fs01](https://github.com/KwonWooChan/ColabNoteBook/blob/master/Pictures/FS01.PNG?raw=true)\n",
        "---\n",
        "\n",
        "### 학습 목표\n",
        "\n",
        "* 함수의 개념과 특징을 설명할 수 있다.\n",
        "* 지역 변수와 변역 변수의 차이를 설명할 수 있다.\n",
        "* 함수를 활용한 프로그램을 작성할 수 있다."
      ]
    },
    {
      "cell_type": "markdown",
      "metadata": {
        "id": "XVRwY8hLCb7A"
      },
      "source": [
        "### 1. 함수  \n",
        "\n",
        "같은 동작을 반복하는 부분만 별도로 만들어 놓고 사용할 수 있을까?  \n",
        "\n",
        "---\n",
        "\n",
        "프로그래밍 언어에서의 **함수**는 정의된 기능만을 전담하여 처리하는 독립된 작은 부속 프로그램이라고 할 수 있다.  \n",
        "![FS02](https://github.com/KwonWooChan/ColabNoteBook/blob/master/Pictures/FS02.PNG?raw=true) \n",
        "\n",
        "> 인수(Argument)\n",
        ">    - 함수를 호출할때 넘겨주는 값  \n",
        "> \n",
        "> 매개변수(Paramater)\n",
        ">    - 인수를 전달받기 위해 사용하는 변수  \n",
        "> \n",
        "> 반환값(Return Value)\n",
        ">    - 함수를 처리한 결과를 호출한 쪽으로 되돌려주는 값  \n",
        "\n",
        "![FS03](https://github.com/KwonWooChan/ColabNoteBook/blob/master/Pictures/FS03.PNG?raw=true)"
      ]
    },
    {
      "cell_type": "code",
      "metadata": {
        "id": "w_fzlAK3-QTx"
      },
      "source": [
        "# 3_01 두 수의 합계를 구하는 프로그램\n",
        "\n",
        "def sum(a, b) :\n",
        "  return a + b\n",
        "\n",
        "print(sum(10, 20))"
      ],
      "execution_count": null,
      "outputs": []
    },
    {
      "cell_type": "code",
      "metadata": {
        "id": "pnYzY2hvEQ8Z"
      },
      "source": [
        "# 3_02 세 과목 점수를 입력받아 평균을 구하는 프로그램\n",
        "\n",
        "def avg(m, s, i):\n",
        "  average = (m + s + i) / 3\n",
        "  return average\n",
        "\n",
        "math        = int(input(\"수학 점수 입력 : \"))\n",
        "science     = int(input(\"과학 점수 입력 : \"))\n",
        "informatics = int(input(\"정보 점수 입력 : \"))\n",
        "\n",
        "result      = avg(math, science, informatics)\n",
        "print(\"평균 : \", result)"
      ],
      "execution_count": null,
      "outputs": []
    },
    {
      "cell_type": "markdown",
      "metadata": {
        "id": "a0B-5YUUFIFw"
      },
      "source": [
        "**함수의 특징**  \n",
        "* 복잡하고 큰 프로그램을 작은 단위의 여러 부분 프로그램으로 나눌 수 있다.\n",
        "* 프로그램을 기능 중심으로 단순하고 이해하기 쉽게 표현할 수 있다.\n",
        "* 중복되는 부분을 함수로 만들어 반복 호출함으로써 코드의 불필요한 중복을 최소화할 수 있다.\n",
        "* 프로그램의 크기를 줄일 수 있고, 오류 발생 시 수정하기가 용이하다.\n",
        "* 함수를 재사용함으로써 프로그래밍의 생산성을 높일 수 있다."
      ]
    },
    {
      "cell_type": "code",
      "metadata": {
        "id": "Vrjt-_-fFnSY"
      },
      "source": [
        "# 3_03 배열에서 가장 큰 수 찾기\n",
        "\n",
        "# 교과서ver\n",
        "def greatest(data) :\n",
        "  greater = data[0]\n",
        "  for i in range(1, len(data)) :\n",
        "    if greater < data[i] :\n",
        "      greater = data[i]\n",
        "  return greater\n",
        "\n",
        "# 선생님ver\n",
        "# def greatest(data) :\n",
        "#   greater = data[0]\n",
        "#   for i in data:\n",
        "#     if greater < i:\n",
        "#       greater = i\n",
        "#   return(greater)\n",
        "\n",
        "nums = [75, 80, 50, 85, 100, 95, 90, 65, 80, 70]\n",
        "result = greatest(nums)\n",
        "print(result)"
      ],
      "execution_count": null,
      "outputs": []
    },
    {
      "cell_type": "code",
      "metadata": {
        "id": "i3SM9MEWI_cf"
      },
      "source": [
        "#colab python turtle Circle 정의식\n",
        "\n",
        "!pip3 install ColabTurtle\n",
        "from ColabTurtle.Turtle import *\n",
        "\n",
        "def circle1(radian) :\n",
        "  for i in range(int(100*radian/360)):\n",
        "      forward(10)\n",
        "      left(360/100)\n",
        "def circle2(length, radian) :\n",
        "  for i in range(int(100 * radian / 360)):\n",
        "    forward(length)\n",
        "    left(360/100)\n"
      ],
      "execution_count": 42,
      "outputs": []
    },
    {
      "cell_type": "code",
      "metadata": {
        "id": "P5S2E8oEG1tY"
      },
      "source": [
        "# 3_04 꽃모양 그리는 프로그램01\n",
        "initializeTurtle(initial_speed=10)\n",
        "\n",
        "color(\"orange\")\n",
        "bgcolor('white')\n",
        "width(1)\n",
        "\n",
        "\n",
        "for i in range(6):\n",
        "  circle2(1, 220)\n",
        "  left(200)\n"
      ],
      "execution_count": null,
      "outputs": []
    },
    {
      "cell_type": "code",
      "metadata": {
        "id": "_CGyZEMOO6Pm"
      },
      "source": [
        "# 3_05 꽃모양 그리는 프로그램02\n",
        "# 위 기능을 한는 함수 flower을 만들어보기\n",
        "\n",
        "# flower(반지름의 크기, 색)"
      ],
      "execution_count": null,
      "outputs": []
    },
    {
      "cell_type": "markdown",
      "metadata": {
        "id": "GrE4ssjjPb3-"
      },
      "source": [
        "### 2. 지역 변수와 전역 변수  \n",
        "변수의 사용 범위는 어떻게 될까?  \n",
        "\n",
        "---\n",
        "\n",
        "> * 지역변수 : 선언한 함수 내부에서만 사용할 수 있는 변수.\n",
        "> * 전역변수 : 프로그램 내의 모든 영역에서 자유롭게 사용할 수 있는 변수  \n",
        "\n",
        "![FS04](https://github.com/KwonWooChan/ColabNoteBook/blob/master/Pictures/FS04.PNG?raw=true)"
      ]
    },
    {
      "cell_type": "code",
      "metadata": {
        "id": "HfMhcA5nQR7B"
      },
      "source": [
        "# 3_05 팩토리얼 계산하는 프로그램\n",
        "def fact(n) :\n",
        "  global sum\n",
        "  f = 1\n",
        "  for k in range(1, n+1) :\n",
        "    f *= k\n",
        "  sum += f\n",
        "\n",
        "  sum = 0\n",
        "  for k in range(1,6):\n",
        "    fact(k)\n",
        "  print(sum)"
      ],
      "execution_count": null,
      "outputs": []
    },
    {
      "cell_type": "markdown",
      "metadata": {
        "id": "o8e4OHrUU723"
      },
      "source": [
        "### 3. 파이선 표준 라이브러리  \n",
        "프로그램을 좀 더 쉽고 간편하게 작성할 수 있을까?  \n",
        "\n",
        "---\n",
        "\n",
        "01. 내장함수  \n",
        "모듈을 불러오지 않아도 사용할 수 있는 함수를 내장 함수라고 한다.  \n",
        "\n",
        "02. 외장함수  \n",
        "import 명령어를 사용하여 불러와야만 사용할 수 있는 함수를 외장 함수라고 한다.  \n",
        "\n",
        "![fs05](https://github.com/KwonWooChan/ColabNoteBook/blob/master/Pictures/FS05.PNG?raw=true)\n"
      ]
    },
    {
      "cell_type": "markdown",
      "metadata": {
        "id": "vYBo7hIZVai8"
      },
      "source": [
        "<table>\n",
        "  <thead>\n",
        "    <tr>\n",
        "      <th>내장함수</th>\n",
        "      <th>설명</th>\n",
        "    </tr>\n",
        "  </thead>\n",
        "  <tbody>\n",
        "    <tr> \n",
        "      <td>abs(n)</td> \n",
        "      <td>숫자 n의 절댓값을 반환함</td>\n",
        "    </tr>\n",
        "    <tr> \n",
        "      <td>chr(n), ord(문자)</td> \n",
        "      <td>아스키코드에 대한 문자, 문자에 대한 아스키 코드를 반환함.</td>\n",
        "    </tr>\n",
        "    <tr> \n",
        "      <td>divmod(m,n)</td> \n",
        "      <td>m을 n으로 나눈 몫과 나머지를 튜플 형태로 반환함</td>\n",
        "    </tr>\n",
        "    <tr> \n",
        "      <td>int(n), float(n), str(n)</td> \n",
        "      <td>n을 정수, 실수, 문자열로 변환한 결과를 반환함.</td>\n",
        "    </tr>\n",
        "    <tr> \n",
        "      <td>len(시퀀스)</td> \n",
        "      <td>시퀀스(문자열, 리스트 튜플)의 요소 개수를 반환함</td>\n",
        "    </tr>\n",
        "    <tr> \n",
        "      <td>list(시퀀스)</td> \n",
        "      <td>시퀀스를 리스트 자료형으로 변환하여 반환함.</td>\n",
        "    </tr>\n",
        "    <tr> \n",
        "      <td>max(시퀀스), min(시퀀스)</td> \n",
        "      <td>시퀀스 요소들 중 최댓값, 최솟값을 반환함</td>\n",
        "    </tr>\n",
        "    <tr> \n",
        "      <td>pow(m,n)</td> \n",
        "      <td>m의 n승을 계산한 결과를 반환함.</td>\n",
        "    </tr>\n",
        "    <tr> \n",
        "      <td>sum(리스트)</td> \n",
        "      <td>리스트 값들의 합계를 구한 결과를 반환함.</td>\n",
        "    </tr>\n",
        "    <tr> \n",
        "      <td>round(n, 자릿수)</td> \n",
        "      <td>실수 n을 지정한 자릿수로 반올림한 결과를 반환함</td>\n",
        "    </tr>\n",
        "    \n",
        "  </tbody>\n",
        "</table>\n",
        "\n",
        "\n",
        "[내장 함수에 관한 자세한 내용](https://wikidocs.net/32)\n",
        "\n"
      ]
    },
    {
      "cell_type": "code",
      "metadata": {
        "id": "lkmDJ_JOY3_7"
      },
      "source": [
        "# 3_06 random 모듈을 이용하여 컴퓨터와 가위바위보 게임을 하는 프로그램\n",
        "\n",
        "from random import *\n",
        "\n",
        "def choice(data) :\n",
        "  return data[randrange(len(data))]\n",
        "\n",
        "kind = [' ', '가위', '바위', '보']\n",
        "man = int(input(\"<1.가위 2.바위 3.보> : \"))\n",
        "computer = choice([1,2,3])\n",
        "\n",
        "print(\"사람:\", kind[man], \", 컴퓨터:\", kind[computer])\n",
        "\n",
        "if(man - computer == -2 or man - computer == 1 ) :\n",
        "  print(\"사람이 이겼습니다.\")\n",
        "elif (man == computer):\n",
        "  print(\"비겼습니다.\")\n",
        "else :\n",
        "  print(\"컴퓨터가 이겼습니다.\")"
      ],
      "execution_count": null,
      "outputs": []
    },
    {
      "cell_type": "markdown",
      "metadata": {
        "id": "MoXW_gXpbGSC"
      },
      "source": [
        "### 4. 함수의 활용  \n",
        "함수를 활용하여 프로그램을 작성할 수 있을까?  \n",
        "\n",
        "---\n",
        "\n",
        "교과서 164p의 내용을 완성해보자\n",
        "\n",
        "![fs06](https://github.com/KwonWooChan/ColabNoteBook/blob/master/Pictures/FS06.PNG?raw=true)\n",
        "![fs07](https://github.com/KwonWooChan/ColabNoteBook/blob/master/Pictures/FS07.PNG?raw=true)\n"
      ]
    },
    {
      "cell_type": "code",
      "metadata": {
        "id": "KYXHgW5PbFnH"
      },
      "source": [
        "# 3_07 스스로 해결하기."
      ],
      "execution_count": null,
      "outputs": []
    }
  ]
}