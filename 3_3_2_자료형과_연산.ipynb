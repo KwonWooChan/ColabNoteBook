{
  "nbformat": 4,
  "nbformat_minor": 0,
  "metadata": {
    "colab": {
      "provenance": [],
      "authorship_tag": "ABX9TyM3X9OPMc+ft4Zqe4CIhxAY",
      "include_colab_link": true
    },
    "kernelspec": {
      "name": "python3",
      "display_name": "Python 3"
    },
    "language_info": {
      "name": "python"
    }
  },
  "cells": [
    {
      "cell_type": "markdown",
      "metadata": {
        "id": "view-in-github",
        "colab_type": "text"
      },
      "source": [
        "<a href=\"https://colab.research.google.com/github/KwonWooChan/ColabNoteBook/blob/master/3_3_2_%EC%9E%90%EB%A3%8C%ED%98%95%EA%B3%BC_%EC%97%B0%EC%82%B0.ipynb\" target=\"_parent\"><img src=\"https://colab.research.google.com/assets/colab-badge.svg\" alt=\"Open In Colab\"/></a>"
      ]
    },
    {
      "cell_type": "markdown",
      "source": [
        "# 3.3.2. 자료형과 연산\n",
        "<hr>\n",
        "학습 목표.  \n",
        "\n",
        "- 자료형에 적합한 변수를 활용한 프로그램을 작성할 수 있다.\n",
        "- 다양한 연산자를 활용한 프로그램을 작성할 수 있다.\n",
        "- 표준 입출력과 파일 입출력을 활용한 프로그램을 작성할 수 있다.  \n",
        "\n",
        "<hr>\n",
        "\n",
        "## 0. 파이썬 문법\n",
        "## 1. 자료형\n",
        "## 2. 변수\n",
        "## 3. 연산자\n",
        "## 4. 입출력"
      ],
      "metadata": {
        "id": "BlB92CUY0aTv"
      }
    },
    {
      "cell_type": "markdown",
      "source": [
        "## 0. 파이썬 문법  \n",
        "\n",
        "파이썬은 다른 언어에 비해 비교적 쉽게 사용할 수 있으며, 문법또한 바교적 간단하다.  \n"
      ],
      "metadata": {
        "id": "bDlmOq3Z1KyT"
      }
    },
    {
      "cell_type": "markdown",
      "source": [
        "\n",
        "### 들여쓰기\n",
        "\n",
        "들여쓰기(indentation)는 파이썬 문법의 가장 큰 특징으로 코드를 읽기 쉽도록 띄어서 쓰는 방법이다.  \n",
        "\n",
        "파이썬은 들여쓰기를 통해 코드 블록을 구분하며, 동일한 코드 블록에서는 동일한 들여쓰기 공백을 사용해야 하며, 명령어가 끝나지 않고 다음 줄에 이어서 작성할 때는 들여쓰기를 하지 않아도 된다.\n",
        "\n"
      ],
      "metadata": {
        "id": "4T8_jRIT4Tql"
      }
    },
    {
      "cell_type": "code",
      "execution_count": null,
      "metadata": {
        "colab": {
          "base_uri": "https://localhost:8080/"
        },
        "id": "E5OSKX6nxboH",
        "outputId": "849dedf4-567b-4e7b-c9a2-aec1c8e515a9"
      },
      "outputs": [
        {
          "output_type": "stream",
          "name": "stdout",
          "text": [
            "hello world\n"
          ]
        }
      ],
      "source": [
        "print(\"hello world\")"
      ]
    },
    {
      "cell_type": "markdown",
      "source": [
        "### 주석\n",
        "\n",
        "파이썬에서 프로그램 내의 명령들을 설명하기 위한 주석을 나타내기 위해 **#** 기호를 사용한다. # 뒤에 오는 내용은 주석에 해당하며 설명이기 때문에 실행되지 않는다. 또한 # 기호와 주석 내용은 공백 한 칸을 띄어 가독성을 높인다."
      ],
      "metadata": {
        "id": "UlFFhEQf187E"
      }
    },
    {
      "cell_type": "code",
      "source": [
        "# 이 줄은 주석입니다.\n",
        "# 주석은 실행 되지 않습니다.\n",
        "\n",
        "import random\n",
        "\n",
        "member = int(input(\"학급의 총 인원은 몇명인가요 ? : \"))\n",
        "rand_date_seed = int(input(\"오늘의 날짜를 숫자로 입력해주세요(MMDD) : \"))\n",
        "random.seed(rand_date_seed)                     # 랜덤 시드를 저장합니다.\n",
        "member_list = [i for i in range(1, member + 1)] # 반의 번호를 저장합니다.\n",
        "\n",
        "# 발표자를 구하는 함수입니다.\n",
        "def print_speaker():\n",
        "  random.shuffle(member_list) # 섞습니다\n",
        "  print(member_list.pop())    # 출력합니다\n"
      ],
      "metadata": {
        "id": "aGi9Ls5X2Ut0"
      },
      "execution_count": null,
      "outputs": []
    },
    {
      "cell_type": "markdown",
      "source": [
        "### 세미콜론(;)\n",
        "\n",
        "파이썬에서 세미콜론(;)은 한 줄에 두 개 이상의 명령어를 구분하는 데 사용된다.  \n",
        "\n",
        "### 큰따옴표(\"\")와 작은 따옴표('')\n",
        "\n",
        "큰따옴표와 작은따옴표 모두 문자열을 표현하기 위해 사용되며, 큰따옴표와 작은따옴표의 구분은 없다."
      ],
      "metadata": {
        "id": "ORqL6Tu64QOm"
      }
    },
    {
      "cell_type": "code",
      "source": [
        "print(\"hello\"); print(\"world!\")"
      ],
      "metadata": {
        "id": "EQAL6-hM4wq8"
      },
      "execution_count": null,
      "outputs": []
    },
    {
      "cell_type": "markdown",
      "source": [
        "## 1. 자료형\n",
        "\n",
        "**자료**는 현실 세계로부터 관찰이나 측정을 통해 얻은 값을 말하는 것으로, 자료를 처리하며 의미 있는 ㅈ어보를 만들어 낼 수 있다.  \n",
        "\n",
        "자료는 특성에 따라 여러가지 **자료형**으로 구분되는데, 다음 세 가지 자료형이 주로 사용된다.\n",
        "\n",
        "<table>\n",
        "  <tr>\n",
        "    <td scope='col'> 자료형 </td>\n",
        "    <td scope='col'> 설명 </td>\n",
        "    <td scope='col'> 자료형 </td>\n",
        "  </tr>\n",
        "  <tr>\n",
        "    <td> 숫자형 </td>\n",
        "    <td> 숫자 계산을 목적으로 사용하는 자료 <br>예) 5, -10, 0.2, -2.4, 3.141592 </td>\n",
        "    <td> int, float </td>\n",
        "  </tr>\n",
        "  <tr>\n",
        "    <td> 문자형 </td>\n",
        "    <td> 문자로 된 정보를 표현할 때 사용하는 자료<br>예) \"computer\", \"정보\", \"10\", \"08377\"</td>\n",
        "    <td> str </td>\n",
        "  </tr>\n",
        "  <tr>\n",
        "    <td> 참 거짓형 </td>\n",
        "    <td> 조건에 따른 참과 거짓을 의미하는 자료<br>예) True, False</td>\n",
        "    <td> bool </td>\n",
        "  <tr>\n",
        "</table>"
      ],
      "metadata": {
        "id": "_zN0fFRJ5DUP"
      }
    },
    {
      "cell_type": "code",
      "source": [
        "# p.121 해보기 [자료에 적합한 자료형 선택하기]\n",
        "# 소프트웨어 개발자가 꿈인 영수는 온라인 쇼핑몰에서 판매되는 어러 테블릿들을 추상화하기 위한 핵심요소들이 프로그램에서는 어떻게 표현되어야 하는지 궁금해졌다.\n",
        "# 그래서 다음 태블릿의 특징을 관찰한 후, 그 값을 자료로 저장하려고 한다.\n",
        "# 관찰된 값을 저장하는 데 필요한 자료형은 무엇인지 아래 표의 빈칸을 채워보자.\n",
        "\n",
        "제품_이름 = \"태블릿\"\n",
        "메모리 = 2\n",
        "저장_용량 = 32\n",
        "무게 = 480\n",
        "운영체제 = \"안드로이드\"\n",
        "해상도 = \"1920x1080\"\n",
        "할인_여부 = True\n",
        "반품_여부 = False\n",
        "가로_길이 = 255\n",
        "세로_길이 = 160\n",
        "두께 = 10\n",
        "\n",
        "print(type(할인_여부))"
      ],
      "metadata": {
        "collapsed": true,
        "id": "-S-PQ3CL6x0z"
      },
      "execution_count": null,
      "outputs": []
    },
    {
      "cell_type": "markdown",
      "source": [
        "## 2. 변수\n",
        "\n",
        "프로그램이 계산을 하는 과정에서 수시로 변하는 값을 기억하기 위해 **변수**라고 하는 저장공간을 이용한다.\n",
        "\n",
        "변수는 한개의 자료만 저장할 수 있기 때문에, 계산에 사용되는 자료의 개수만큼 변수가 사용되어야 한다.\n",
        "\n",
        "이때 각각의 변수는 다른 자료를 저장하고 있는 변수와 서로 구별되어야 하기 때문에 자기만의 고유한 이름을 가져야한다."
      ],
      "metadata": {
        "id": "CTjBadyU-U_o"
      }
    },
    {
      "cell_type": "code",
      "source": [
        "# 세 개의 변수 a, b, c를 이용해 덧셈을 하는 프로그램\n",
        "\n",
        "a = 50\n",
        "b = 20\n",
        "c = a + b\n",
        "\n",
        "print(a, b, c)"
      ],
      "metadata": {
        "id": "dkcJx3cR-wLh"
      },
      "execution_count": null,
      "outputs": []
    },
    {
      "cell_type": "markdown",
      "source": [
        "### 파이선 언어의 변수 이름을 정하는 규칙\n",
        "\n",
        "* 한글, 영문, 숫자, 밑줄만 사용한다.\n",
        "* 첫 문자에 숫자를 사용할 수 없다.\n",
        "* 대소문자를 구분한다.\n",
        "* if, for, while 등 파이썬에서 미리 정의된 예약어는 사용할 수 없다.\n",
        "* 공백은 사용할 수 없다.  \n",
        "\n",
        "<hr>\n",
        "의미 있는 변수명 만드는 방법\n",
        "\n",
        "1. 의미 있는 단어를 선정한다.  \n",
        "값 -> price   \n",
        "총 합 -> total\n",
        "\n",
        "2. 변수명은 유일해야 하기 때문에 이해하기 쉬운 방식으로 겹치지 않게 만든다.  \n",
        "학생1, 학생2, 학생3  \n",
        "행성1, 행성2, 행성3\n",
        "\n",
        "3. 변수명이 너무 길어 질 수 있으니 알아보기 쉽게 연결한다.\n",
        "철수의 수학 성적, 철수의 영어 성적, 철수의 국어 성적\n",
        "Cstd_Math_Score, Cstd_English_Score, Cstd_Korean_Score\n",
        "\n",
        "\n",
        "등등\n",
        "\n",
        "<hr>"
      ],
      "metadata": {
        "id": "QrrVe6se8NMl"
      }
    },
    {
      "cell_type": "code",
      "source": [
        "# 오류를 발생시켜 봅시다.\n",
        "# NameError : 프로그램 사용중 선언하지 않은 변수명이 사용될 때 호출 됩니다.\n",
        "\n",
        "print(d)"
      ],
      "metadata": {
        "colab": {
          "base_uri": "https://localhost:8080/",
          "height": 173
        },
        "id": "oPWqowTF_BZN",
        "outputId": "999d6f7c-3c8e-4f9f-d047-2cfe4686c338"
      },
      "execution_count": null,
      "outputs": [
        {
          "output_type": "error",
          "ename": "NameError",
          "evalue": "name 'd' is not defined",
          "traceback": [
            "\u001b[0;31m---------------------------------------------------------------------------\u001b[0m",
            "\u001b[0;31mNameError\u001b[0m                                 Traceback (most recent call last)",
            "\u001b[0;32m<ipython-input-9-2cb334127fec>\u001b[0m in \u001b[0;36m<cell line: 3>\u001b[0;34m()\u001b[0m\n\u001b[1;32m      1\u001b[0m \u001b[0;31m# 오류를 발생시켜 봅시다.\u001b[0m\u001b[0;34m\u001b[0m\u001b[0;34m\u001b[0m\u001b[0m\n\u001b[1;32m      2\u001b[0m \u001b[0;34m\u001b[0m\u001b[0m\n\u001b[0;32m----> 3\u001b[0;31m \u001b[0mprint\u001b[0m\u001b[0;34m(\u001b[0m\u001b[0md\u001b[0m\u001b[0;34m)\u001b[0m\u001b[0;34m\u001b[0m\u001b[0;34m\u001b[0m\u001b[0m\n\u001b[0m",
            "\u001b[0;31mNameError\u001b[0m: name 'd' is not defined"
          ]
        }
      ]
    },
    {
      "cell_type": "code",
      "source": [
        "# SyntaxError : 프로그램 실행 중 문법적인 오류가 발생할 대 사용됩니다.\n",
        "\n",
        "a = 50\n",
        "b = 20\n",
        "c = a *** b\n",
        "print(c)"
      ],
      "metadata": {
        "colab": {
          "base_uri": "https://localhost:8080/",
          "height": 105
        },
        "id": "ihZD3KZr_lY6",
        "outputId": "f4818020-cfa3-4716-8171-24b3c94cefd6"
      },
      "execution_count": null,
      "outputs": [
        {
          "output_type": "error",
          "ename": "SyntaxError",
          "evalue": "invalid syntax (<ipython-input-15-356c5f0ba3b0>, line 3)",
          "traceback": [
            "\u001b[0;36m  File \u001b[0;32m\"<ipython-input-15-356c5f0ba3b0>\"\u001b[0;36m, line \u001b[0;32m3\u001b[0m\n\u001b[0;31m    c = a *** b\u001b[0m\n\u001b[0m            ^\u001b[0m\n\u001b[0;31mSyntaxError\u001b[0m\u001b[0;31m:\u001b[0m invalid syntax\n"
          ]
        }
      ]
    },
    {
      "cell_type": "markdown",
      "source": [
        "변수에는 서로 다른 자료들이 저장될 수 있지만, 한번에 하나의 자료만 저장된다는 특징이 있다. 그래서 이미 저장된 자료가 있는 변수에 새로운 자료를 저장하면 기존에 저장되어있던 자료는 지워지고 새로운 자료가 저장된다."
      ],
      "metadata": {
        "id": "9sUUMasx6QZA"
      }
    },
    {
      "cell_type": "code",
      "source": [
        "a = 100   # 변수에 100을 저장\n",
        "a = 150   # 변수에 150을 저장\n",
        "print(a)  # 가장 최근에 저장된 150이 출력됨"
      ],
      "metadata": {
        "id": "QhEiBCLP6dPj"
      },
      "execution_count": null,
      "outputs": []
    },
    {
      "cell_type": "code",
      "source": [
        "# 변수에 100을 저장하고 150을 누적하고 싶다면 다음과 같이 수행해야 함\n",
        "\n",
        "a = 100\n",
        "a = a + 150\n",
        "print(a)"
      ],
      "metadata": {
        "id": "Drtmb9Af6s-s"
      },
      "execution_count": null,
      "outputs": []
    },
    {
      "cell_type": "markdown",
      "source": [
        "## 3. 연산자\n",
        "\n",
        "**연산자**는 변수나 자료를 대상으로 연산을 하는 방법을 정의해 놓은 것으로, 목적에 따라 산술 연산자, 대입연산자, 논리연산자, 등이 있다.\n",
        "\n",
        "이중에서 숫자를 계산할 때 사용하는 산술 연산자와 자료를 변수에 저장할 때 사용하는 대입 연산자를 가장 많이 사용한다.\n",
        "\n",
        "\n",
        "* 산술 연산자 : 숫자형 자료와 변수를 대상으로 덧셈, 뺄셈, 곱셈, 나눗셈 등의 산술 계산을 할 때 사용하는 연산자이다.\n",
        "\n",
        "* 대입 연산자 : 연산자의 오른쪽에 있는 수식의 값을 왼쪽의 변수에 저장하라는 의미이다.\n",
        "\n",
        "\n",
        "<table>\n",
        "  <tr>\n",
        "    <th scope='col'> 구분 </th>\n",
        "    <th scope='col' colspan = \"7\"> 산술 연산자 </th>\n",
        "    <th scope='col'> 대입 연산자 </th>\n",
        "  </tr>\n",
        "  <tr>\n",
        "    <th> 의미 </th>\n",
        "    <th> 덧셈 </th>\n",
        "    <th> 뺄셈 </th>\n",
        "    <th> 곱셈 </th>\n",
        "    <th> 나눗셈 </th>\n",
        "    <th> 제곱 </th>\n",
        "    <th> 몫 </th>\n",
        "    <th> 나머지 </th>\n",
        "    <th> 저장 </th>\n",
        "  </tr>\n",
        "  <tr>\n",
        "    <th> 연산자 </th>\n",
        "    <th> + </th>\n",
        "    <th> - </th>\n",
        "    <th> * </th>\n",
        "    <th> / </th>\n",
        "    <th> ** </th>\n",
        "    <th> // </th>\n",
        "    <th> % </th>\n",
        "    <th> = </th>\n",
        "  </tr>\n",
        "</table>\n",
        "\n",
        "<hr>\n",
        "파이썬 언어의 연산자 우선 순위.\n",
        "<table>\n",
        "  <tr>\n",
        "    <th scope='col'> 우선순위 </th>\n",
        "    <th scope='col'> 연산자 </th>\n",
        "  </tr>\n",
        "  <tr>\n",
        "    <th> 1 </th>\n",
        "    <th> ( ) </th>\n",
        "  </tr>\n",
        "  <tr>\n",
        "    <th> 2 </th>\n",
        "    <th> ** </th>\n",
        "  </tr>\n",
        "  <tr>\n",
        "    <th> 3 </th>\n",
        "    <th> * / // % </th>\n",
        "  </tr>\n",
        "  <tr>\n",
        "    <th> 4 </th>\n",
        "    <th> + - </th>\n",
        "  </tr>\n",
        "  <tr>\n",
        "    <th> 5 </th>\n",
        "    <th> = </th>\n",
        "  </tr>\n",
        "</table>"
      ],
      "metadata": {
        "id": "14TFbkso7mHS"
      }
    },
    {
      "cell_type": "code",
      "source": [
        "# 프로그램 코드\n",
        "# 실행전 출력되는 값을 예상해보세요\n",
        "\n",
        "print(10 + 50 * 20)\n",
        "print((10 + 50) * 20)"
      ],
      "metadata": {
        "id": "2dogQfCe-r4h"
      },
      "execution_count": null,
      "outputs": []
    },
    {
      "cell_type": "code",
      "source": [
        "# 연습 문제 1\n",
        "a = 6\n",
        "b = 3\n",
        "c = a + b\n",
        "d = a - b\n",
        "print(c)  # 9\n",
        "print(d)  # 3\n",
        "d = d-c\n",
        "print(d)  # -6"
      ],
      "metadata": {
        "id": "UvjRk5aEAuZY"
      },
      "execution_count": null,
      "outputs": []
    },
    {
      "cell_type": "code",
      "source": [
        "# 연습 문제2\n",
        "x = 10\n",
        "y = 20\n",
        "z = y/x\n",
        "y = x\n",
        "x = (y%z) + 1\n",
        "print(x)\n",
        "print(y)"
      ],
      "metadata": {
        "id": "wtjsdRaaBAah"
      },
      "execution_count": null,
      "outputs": []
    },
    {
      "cell_type": "code",
      "source": [
        "# 연습 문제 3\n",
        "a = 7\n",
        "b = 6\n",
        "c = a * b\n",
        "c = c - a\n",
        "a = (c%b)+(c-b)\n",
        "print(a)\n",
        "print(b)\n",
        "print(c)"
      ],
      "metadata": {
        "id": "448vaNsJBLB6"
      },
      "execution_count": null,
      "outputs": []
    },
    {
      "cell_type": "code",
      "source": [
        "# 연습 문제 4 (SWAP/교체)\n",
        "x = 17\n",
        "y = 20\n",
        "t = x\n",
        "x = y\n",
        "y = t\n",
        "print(x)\n",
        "print(y)"
      ],
      "metadata": {
        "id": "8AK8BIdYBdVw"
      },
      "execution_count": null,
      "outputs": []
    },
    {
      "cell_type": "code",
      "source": [
        "# 연습 문제 5 (누적)\n",
        "s = 0\n",
        "s = s + 1\n",
        "s = s + 2\n",
        "s = s + 3\n",
        "s = s + 4\n",
        "s = s + 5\n",
        "s = s + 6\n",
        "s = s + 7\n",
        "print(s)"
      ],
      "metadata": {
        "id": "5uE6MVfgBnh8"
      },
      "execution_count": null,
      "outputs": []
    },
    {
      "cell_type": "code",
      "source": [
        "# 연습 문제 6\n",
        "x = 22\n",
        "y = 6\n",
        "z = x % y\n",
        "print(z)\n",
        "z = x + z\n",
        "y = z - y\n",
        "x = z + y * 2\n",
        "print(x)\n",
        "print(y)\n",
        "print(z)"
      ],
      "metadata": {
        "id": "us4eIaX8B2Vy"
      },
      "execution_count": null,
      "outputs": []
    },
    {
      "cell_type": "markdown",
      "source": [
        "### 변수와 연산자를 이용한 프로그램 작성\n",
        "\n",
        "조건.\n",
        "<hr>  \n",
        "\n",
        "* 빵의 단가는 800원이고, 구매 개수는 10개이다.  \n",
        "* 전체 빵값은 '빵의 단가x구매 개수'로 계산한다.  \n",
        "* 전체 빵값의 10%를 할인해 준다.\n",
        "\n",
        "<hr>"
      ],
      "metadata": {
        "id": "M3bhHZUiCHz7"
      }
    },
    {
      "cell_type": "code",
      "source": [
        "# 프로그램 코드\n",
        "\n",
        "price = 800                   # 빵의 단가를 입력한다\n",
        "count = 10                    # 구매 개수를 입력한다\n",
        "total = price * count         # 전체 빵값을 계산한다\n",
        "total = total - total * 0.1   # 10% 할인한다.\n",
        "print(\"전체 빵값 :\", total)"
      ],
      "metadata": {
        "id": "noBSbksTCq8Y"
      },
      "execution_count": null,
      "outputs": []
    },
    {
      "cell_type": "code",
      "source": [
        "# 프로그램 코드\n",
        "\n",
        "price = input(\"빵 단가 입력 :\")  # 빵의 단가를 입력한다\n",
        "count = input(\"빵 개수 입력 :\")  # 구매 개수를 입력한다\n",
        "price = int(price)\n",
        "count = int(count)\n",
        "total = price * count         # 전체 빵값을 계산한다\n",
        "total = total - total * 0.1   # 10% 할인한다.\n",
        "print(\"전체 빵값 :\", total)"
      ],
      "metadata": {
        "id": "PntSGh6cDFiq"
      },
      "execution_count": null,
      "outputs": []
    },
    {
      "cell_type": "markdown",
      "source": [
        "### 변수와 연산자를 이용한 프로그램 작성2\n",
        "\n",
        "체질량 지수(bmi)를 출력하는 프로그램을 만드시오.\n",
        "\n",
        "체질량 지수란 키와 몸무게를 이용하여 지방의 양을 추정하는 비만 측정법이다. 키가 h센티미터, 몸무게가 w킬로그램일 때 BMI는 다음과 같이 구한다.\n",
        "\n",
        "\n",
        "\n",
        "```\n",
        "BMI = (w / (h ** 2)) * 10000\n",
        "```\n",
        "\n"
      ],
      "metadata": {
        "id": "iRL5g5ZlFvuI"
      }
    },
    {
      "cell_type": "code",
      "source": [
        "h = # 표준 입력\n",
        "w = # 표준 입력\n",
        "h = int(h)\n",
        "w = int(w)\n",
        "bmi = (w / (h ** 2)) * 10000\n",
        "    # 표준 출력"
      ],
      "metadata": {
        "id": "v5jzQG_mGSir"
      },
      "execution_count": null,
      "outputs": []
    },
    {
      "cell_type": "markdown",
      "source": [
        "## 4. 입출력\n",
        "\n",
        "파이썬 프로그램에서 사용자가 입력하고 출력을 확인하는 표준 입출력과\n",
        "\n",
        "파일에 입력하고 출력을 확인하는 파일 입출력이 주로 사용된다."
      ],
      "metadata": {
        "id": "y0vhrBPFIX9M"
      }
    },
    {
      "cell_type": "code",
      "source": [
        "a = input(\"숫자를 입력하세요 : \") # 숫자를 입력하고 엔터를 치더라도 숫자로 인식하지 못한다.\n",
        "\n",
        "print(type(a))"
      ],
      "metadata": {
        "id": "dQFOHBrhIp5q"
      },
      "execution_count": null,
      "outputs": []
    },
    {
      "cell_type": "code",
      "source": [
        "a = input(\"숫자를 입력하세요 : \")\n",
        "a = int(a) # 형변환을 꼭 해주어야 한다.\n",
        "print(type(a))"
      ],
      "metadata": {
        "id": "DUOT9ShlI3rD"
      },
      "execution_count": null,
      "outputs": []
    },
    {
      "cell_type": "markdown",
      "source": [
        "표준 입출력을 사용하면, 사용자가 입력하는 값으로 계산을 하고 그 결과를 곧바로 출력하기 때문에 자료가 변하는 상황에서 실시간으로 결과를 확인할 수 있다는 장점이 있다.\n",
        "\n",
        "하지만 사용자가 자료를 입력해야만 계산을 할 수 있기 때문에, 프로그램은 사용자가 자료를 입력할 때까지 계산을 하지 않고 기다리게 된다.\n",
        "\n",
        "이처럼 사용자로부터 자료 입력을 기다리느라 처리가 지연되는 현상 때문에 대량의 자료를 처리해야 하는 경우에는 표준 입출력이 효율적이지 못하다.\n",
        "\n"
      ],
      "metadata": {
        "id": "_iUj0_SIJFyf"
      }
    },
    {
      "cell_type": "code",
      "source": [
        "# input.txt. 파일 만들기\n",
        "\n",
        "f = open(\"input.txt\", \"w\")\n",
        "\n",
        "for i in range(10):\n",
        "  f.write(str((i+1) * 100))\n",
        "  f.write('\\n')\n",
        "\n",
        "f.close()"
      ],
      "metadata": {
        "id": "rxTMpNhuJp31"
      },
      "execution_count": 2,
      "outputs": []
    },
    {
      "cell_type": "code",
      "source": [
        "# input.txt 파일을 확인하여 합계 만들기\n",
        "\n",
        "sum = 0\n",
        "f = open(\"input.txt\", \"r\")\n",
        "lines = f.readlines()\n",
        "for i in range(0, len(lines)):\n",
        "  num = int(lines[i])\n",
        "  print(num)\n",
        "  sum = sum + num\n",
        "\n",
        "print(\"합계:\", sum)\n",
        "f.close()\n",
        "\n",
        "f = open(\"output.txt\", \"w\")\n",
        "f.write(\"합계 : \" + str(sum))\n",
        "f.close()"
      ],
      "metadata": {
        "id": "HPGpCTS1KPsr"
      },
      "execution_count": null,
      "outputs": []
    },
    {
      "cell_type": "markdown",
      "source": [
        "### 학습 정리하기[활동 노트 : 행성까지의 거리-시간 계산 프로그램 만들기]\n",
        "\n",
        "p.129 프로그램을 완성하여 제출하세요."
      ],
      "metadata": {
        "id": "TLp8pmuLLbrN"
      }
    }
  ]
}