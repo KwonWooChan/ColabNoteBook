{
  "nbformat": 4,
  "nbformat_minor": 0,
  "metadata": {
    "colab": {
      "name": "Variable.ipynb",
      "provenance": [],
      "authorship_tag": "ABX9TyMDdzj6TO3+hZvOol4S1a7v",
      "include_colab_link": true
    },
    "kernelspec": {
      "name": "python3",
      "display_name": "Python 3"
    }
  },
  "cells": [
    {
      "cell_type": "markdown",
      "metadata": {
        "id": "view-in-github",
        "colab_type": "text"
      },
      "source": [
        "<a href=\"https://colab.research.google.com/github/KwonWooChan/ColabNoteBook/blob/master/Variable.ipynb\" target=\"_parent\"><img src=\"https://colab.research.google.com/assets/colab-badge.svg\" alt=\"Open In Colab\"/></a>"
      ]
    },
    {
      "cell_type": "markdown",
      "metadata": {
        "id": "DwBgTtji2Rdu"
      },
      "source": [
        "# 고등학교 정보\n",
        "## 3.3.2 변수와 자료형\n",
        "## 3.3.6 배열의 활용\n",
        "\n",
        "---\n",
        "\n",
        "컴퓨터에서 자료의 형태에 따라 적절한 크기의 저장공간이 필요한데, 이 저장 공간을 **변수**라고 한다.  \n",
        "**변수**가 만들어지면 메모리 안에 변수를 저장할 공간이 확보되고, 이 때 확보되는 저장 공간의 크기를 결정하는 것이 변수에 저장될 자료의 형태이다.  \n",
        "  \n",
        "  파이썬의 기본자료형으로 숫자형, 문자열형, 리스트, 튜플, 딕셔너리 등을 제공한다.  \n",
        "  1.  숫자형 (int, float, double)\n",
        "  2.  문자열형(str)\n",
        "  3.  리스트\n",
        "\n",
        "\n"
      ]
    },
    {
      "cell_type": "code",
      "metadata": {
        "id": "3A5ibJk-18hO"
      },
      "source": [
        "정수 = 10\n",
        "#print(type(정수))"
      ],
      "execution_count": null,
      "outputs": []
    },
    {
      "cell_type": "code",
      "metadata": {
        "id": "cv2ndpdT6j_b"
      },
      "source": [
        "실수 = 1.1\n",
        "print(type(실수))"
      ],
      "execution_count": null,
      "outputs": []
    },
    {
      "cell_type": "code",
      "metadata": {
        "id": "QaFnKzLx7eVy"
      },
      "source": [
        "참거짓 = True\n",
        "print(type(참거짓))"
      ],
      "execution_count": null,
      "outputs": []
    },
    {
      "cell_type": "code",
      "metadata": {
        "id": "VB9Zzrzv7vBC"
      },
      "source": [
        "문자열 = \"살어리 살어리랏다 청산에 살어리랏다.\"\n",
        "print(type(문자열))"
      ],
      "execution_count": null,
      "outputs": []
    },
    {
      "cell_type": "code",
      "metadata": {
        "id": "0l8nh-F-8FIS"
      },
      "source": [
        "# 다음의 임시변수의 타입은 무엇인가?\n",
        "임시변수\n",
        "\n",
        "print(type(임시변수))"
      ],
      "execution_count": null,
      "outputs": []
    },
    {
      "cell_type": "code",
      "metadata": {
        "id": "S8rfywRS8M3D",
        "outputId": "ed2035b1-bae1-4d29-cd0f-19b8ac947fd2",
        "colab": {
          "base_uri": "https://localhost:8080/",
          "height": 35
        }
      },
      "source": [
        "청원리스트 = [\"청원고\", \"청원여고\", \"청원중\", \"청원초\", \"청원유치원\"]\n",
        "print(type(청원리스트))"
      ],
      "execution_count": 13,
      "outputs": [
        {
          "output_type": "stream",
          "text": [
            "<class 'list'>\n"
          ],
          "name": "stdout"
        }
      ]
    },
    {
      "cell_type": "markdown",
      "metadata": {
        "id": "DXHWpZxW9qAD"
      },
      "source": [
        "### 리스트의 활용 (배열을 리스트라고 한다)  \n",
        "_여러개의 자료들을 하나의 이름으로 관리할 수 있을까?\n",
        "\n",
        "---\n",
        "리스트의 특징\n",
        "-  자료 유형이 동일한 자료들을 한꺼번에 저장할 수 있다.\n",
        "-  첨자를 사용하면 배열 내의 특정 위치에 즉시 접근할 수 있다.\n",
        "-  배열의 각 요소들은 연속된 기억공간에 저장된다.\n",
        "-  첨자의 개수에 따라 **1차원배열**, **2차원 배열**로 구분한다.\n",
        "\n",
        "### 1차원 배열의 표현  \n",
        "_ 1차원 배열은 어떻게 작성할까?\n",
        "\n",
        "---\n",
        "1. 초깃값을 부여하는 방법  \n",
        "\n",
        "\n",
        "> 배열명= [값, 값, 값, ...]\n",
        "\n",
        "2. 배열의 크기를 지정하는 방법  \n",
        "\n",
        "> 배열명 = [None]*요소의 개수\n",
        "\n",
        "---\n",
        "\n",
        "### 2차원 배열의 표현  \n",
        "_2차원 배열은 어떻게 작성할까?\n",
        "\n",
        "2차원 배열은 여러 개의 행과 열로 구성된다. 배열 생성시 대괄호 두개를 사용하면서 첨자가 두개인 2차원 배열을 만들 수 있다.\n",
        "\n",
        "---\n",
        "1. 초깃값을 부여하는 방법\n",
        "\n",
        "> 배열명 = [[값,값,값],[값,값,값], ... ]\n",
        "\n",
        "2. 반복문을 이용하여 값을 채우는 방법\n",
        "\n",
        "> 반복문 배울때 다시 배우겠습니다."
      ]
    },
    {
      "cell_type": "code",
      "metadata": {
        "id": "W6xBg0Nj81OU"
      },
      "source": [
        "#1. 초깃값을 부여하는 방법\n",
        "정보점수 = [80,95,60,75,100,95,90,95,75,55]\n",
        "\n",
        "print(정보점수)\n"
      ],
      "execution_count": null,
      "outputs": []
    },
    {
      "cell_type": "code",
      "metadata": {
        "id": "QDzWuZ-H_bQj"
      },
      "source": [
        "#2. 배열의 크기를 지정하는 방법\n",
        "planet=[None]*8\n",
        "print(planet)\n",
        "\n",
        "# planet[0] = \"수성\"\n",
        "# planet[1] = \"금성\"\n",
        "# planet[2] = \"지구\"\n",
        "# planet[3] = \"화성\"\n",
        "# planet[4] = \"목성\"\n",
        "# planet[5] = \"토성\"\n",
        "# planet[6] = \"천왕성\"\n",
        "# planet[7] = \"해왕성\"\n",
        "\n",
        "# print(planet)"
      ],
      "execution_count": null,
      "outputs": []
    },
    {
      "cell_type": "code",
      "metadata": {
        "id": "t5dpNns7BTj7"
      },
      "source": [
        "값1 = 200.13\n",
        "print(\"1 : \" + str(type(값1)))"
      ],
      "execution_count": null,
      "outputs": []
    },
    {
      "cell_type": "code",
      "metadata": {
        "id": "Ku54bHoUBfDS"
      },
      "source": [
        "값2 = [1,3,5]\n",
        "print(\"2 : \" + str(type(값2)))"
      ],
      "execution_count": null,
      "outputs": []
    },
    {
      "cell_type": "code",
      "metadata": {
        "id": "oFOlt3RiBiCp"
      },
      "source": [
        "값2 = 99999\n",
        "print(\"3 : \" + str(type(값2)))"
      ],
      "execution_count": null,
      "outputs": []
    }
  ]
}