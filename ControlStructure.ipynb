{
  "nbformat": 4,
  "nbformat_minor": 0,
  "metadata": {
    "colab": {
      "name": "ControlStructure.ipynb",
      "provenance": [],
      "include_colab_link": true
    },
    "kernelspec": {
      "name": "python3",
      "display_name": "Python 3"
    }
  },
  "cells": [
    {
      "cell_type": "markdown",
      "metadata": {
        "id": "view-in-github",
        "colab_type": "text"
      },
      "source": [
        "<a href=\"https://colab.research.google.com/github/KwonWooChan/ColabNoteBook/blob/master/ControlStructure.ipynb\" target=\"_parent\"><img src=\"https://colab.research.google.com/assets/colab-badge.svg\" alt=\"Open In Colab\"/></a>"
      ]
    },
    {
      "cell_type": "markdown",
      "metadata": {
        "id": "Ew8swz_lGa7w"
      },
      "source": [
        "# Ⅲ문제해결과 프로그래밍  \n",
        "\n",
        "* 순차, 반복, 선택구조를 활용한 프로그램을 작성할 수 있다.\n",
        "* 중첩 제어 구조를 활용한 프로그램을 작성할 수 있다.\n",
        "\n",
        "\n",
        "\n"
      ]
    },
    {
      "cell_type": "markdown",
      "metadata": {
        "id": "94aUR_ymGeks"
      },
      "source": [
        "## 3.5 제어 구조의 활용\n",
        "  \n",
        "구구단의 구조를 살펴보면 앞 단 숫자가 1씩 증가하는 것이 반복되고, 각 단마다 1부터 9까지 숫자가 증가하면서 곱셈이 다시 반복된다. 구구단에서 반복 구조 안에 또 다른 반복구조가 존재하는 것처럼 일상생활 속에서 제어 구조 안에 또 다른 제어구조가 중첩된 경우를 많이 찾을 수 있다.\n",
        "  \n",
        "---\n"
      ]
    },
    {
      "cell_type": "markdown",
      "metadata": {
        "id": "F2rAsaX6XTtE"
      },
      "source": [
        "### 1) 제어구조\n",
        "\n",
        "컴퓨터가 일을 하는 순서를 결정하는 구조로, 순차, 반복, 선택 구조가 있다.\n",
        "\n",
        "* 순차 구조 : 위에서부터 순서대로 실행\n",
        "* 반복 구조 : 특정 부분을 반복하여 실행\n",
        "* 선택 구조 : 주어진 조건에 따라 특정 부분을 선택하여 실행"
      ]
    },
    {
      "cell_type": "markdown",
      "metadata": {
        "id": "BmNLXgecH9in"
      },
      "source": [
        "1. 문제 이해 및 분석\n",
        "> 과목별 단위 수와 석차 등급을 입력하면 평균 내신 등급을 계산하여 출력하는 프로그램을 작성하려고 한다.  \n",
        "\n",
        "![평균 석차 등급 계산법](https://github.com/KwonWooChan/ColabNoteBook/blob/master/Pictures/CS01.PNG?raw=true)\n",
        "\n",
        "\n",
        "2. 알고리즘 설계\n",
        "> 평균 내신 등급 계산 프로그램의 알고리즘 설계는 아래 그림과 같다.\n",
        "\n",
        "![평균 내신 등급 알고리즘](https://github.com/KwonWooChan/ColabNoteBook/blob/master/Pictures/CS02.PNG?raw=true)\n"
      ]
    },
    {
      "cell_type": "code",
      "metadata": {
        "id": "05WBITEaF4a2"
      },
      "source": [
        "# 평균 내신 등급 계산 프로그램의 알고리즘 설계\n",
        "# 변수는 다음과 같다.\n",
        "# myGrade : 내 성적\n",
        "# totUnit : 전체 과목 단위 수 (누적)\n",
        "# totGrade : 전체 과목 석차(누적)\n",
        "# subjectCount : 전체 과목 수\n",
        "# unit : 과목 단위수\n",
        "# grade : 석차 등급\n",
        "# myLevel : 성적을 입력받는곳(상위권, 중위권, 하위권)\n",
        "\n",
        "# 작성해보기..."
      ],
      "execution_count": null,
      "outputs": []
    },
    {
      "cell_type": "markdown",
      "metadata": {
        "id": "qCc9bu_iNjqB"
      },
      "source": [
        "### 2) 반복 구조의 활용\n",
        "평균 내신 등급 계산 프로그램을 작성하기 위해서는 먼저 과목별로 단위 수와 석차 등급을 입력받아야 한다. 이때 반복 구조를 활용하면 효율적이다.\n",
        "\n",
        "---\n",
        "\n",
        "* for문  \n",
        "\n",
        "\n",
        "```\n",
        "   for 변수 in 리스트 :\n",
        "      문장 1\n",
        "```\n",
        "리스트의 첫번째 요소부터 마지막 요소까지 변수에 차례대로 대입하면서 문장1을 실행한다. 즉 문장1을 리스트의 요소 수만큼 반복한다.\n",
        "\n",
        "\n",
        "\n",
        "* while문\n",
        "```\n",
        "   while 조건식 :\n",
        "      문장1\n",
        "```\n",
        "while문의 조건식이 True일 때, 무한 반복이 되어 실행된다. while문이 무한반복되지 않게 하려면 while문 안에 무한 반복을 피할 수 있는 명령문이 있어야 한다."
      ]
    },
    {
      "cell_type": "code",
      "metadata": {
        "id": "LBYK-2BMOyi8"
      },
      "source": [
        "# for문과 while문을 사용하여 0부터 10까지 더하는 함수를 만들어보자.\n",
        "\n",
        "sum = 0\n",
        "\n",
        "for i in range(11):\n",
        "  sum += i;\n",
        "\n",
        "print(sum)"
      ],
      "execution_count": null,
      "outputs": []
    },
    {
      "cell_type": "code",
      "metadata": {
        "id": "4xY2WZoBPEAY"
      },
      "source": [
        "sum = 0\n",
        "\n",
        "for i in range(0, 11):\n",
        "  sum += i;\n",
        "\n",
        "print(sum)"
      ],
      "execution_count": null,
      "outputs": []
    },
    {
      "cell_type": "code",
      "metadata": {
        "id": "i7EUN5jfPIHn"
      },
      "source": [
        "sum = 0\n",
        "i = 0\n",
        "while i < 11:\n",
        "  sum += i;\n",
        "  i += 1;\n",
        "\n",
        "print(sum)"
      ],
      "execution_count": null,
      "outputs": []
    },
    {
      "cell_type": "markdown",
      "metadata": {
        "id": "PrFPzozrPUZ3"
      },
      "source": [
        "### 3) 선택 구조의 활용\n",
        " 평균 내신 등급 계산 프로그램에서 계산된 평균 내신등급에 따라 서로 다른 메시지를 출력해야 한다. 이처럼 조건에 알맞은 메시지를 선택하여 출력하기 위해서는 선책구조를 활용하면 효율적이다.  \n",
        "\n",
        " * if~else문  \n",
        " ```\n",
        " if 조건식 :\n",
        "    문장1\n",
        " else :\n",
        "    문장2\n",
        " ```\n",
        " 조건식이 참이면 문장1을 실행하고, 거짓이면 문장2를 실행한다. else문이 없을 때, 조건식이 거짓이면 아무것도 실행하지 않고 다음 문장을 실행한다.\n",
        "\n",
        "\n",
        " * if∼elif∼else문  \n",
        " ```\n",
        " if 조건식1 :\n",
        "    문장1\n",
        " elif 조건식2 :\n",
        "    문장2\n",
        " else :\n",
        "    문장3\n",
        " ```\n",
        " 조건식1이 참이면 문장1을 실행하고, 그렇지 않고 조건식 2가 참이면 문장2를, 모두 거짓이면 문장3을 실행한다. 조건식이 더 많으면 elif문을 여러개 추가하여 사용할 수 있다."
      ]
    },
    {
      "cell_type": "code",
      "metadata": {
        "id": "I2I8Cvr2QrJy"
      },
      "source": [
        "#스스로 해결하기2\n",
        "\n",
        "나이 = int(input(\"나이를 입력하세요 : \"))\n",
        "if 나이 >= 20 :\n",
        "  print('나이가 20세 이상 : \"성인입니다.\"')\n",
        "elif 나이 >= 13 and 나이 <20 :\n",
        "  print('나이가 13세 이상 20세 미만 : \"청소년입니다.\"')\n",
        "else :\n",
        "  print('나이가 13세 미만:\"어린이입니다.\"')"
      ],
      "execution_count": null,
      "outputs": []
    },
    {
      "cell_type": "markdown",
      "metadata": {
        "id": "_N9KHYNbSV5C"
      },
      "source": [
        "### 4) 중첩제어 구조의 필요성  \n",
        "\n",
        "평균 내신 등급을 계산할 때 한 학기의 성적이 아닌 여러 학기의 성적을 계산하려면 한 학기의 평균 내신 등금을 계산하는 과정을 학기 수만큼 반복해야 한다. 이때, 단순 반복 구조로 작성된 한 학기 내신 등급 계산 프로그램을 또 다른 반복구조를 사용하여 작성하면 효율적이다.\n",
        "\n",
        "> 중첩제어구조란  \n",
        "제어 구조 내부에 다른 제어구조를 포함하는 것을 말한다. 예를 들어, 반복문 안에 다른 반복문이 포함되는 것을 말한다.  \n",
        "\n",
        "\n",
        "![중첩 반복구조](https://github.com/KwonWooChan/ColabNoteBook/blob/master/Pictures/CS03.PNG?raw=true)\n",
        "\n",
        "![중첩 선택구조](https://github.com/KwonWooChan/ColabNoteBook/blob/master/Pictures/CS04.PNG?raw=true)"
      ]
    },
    {
      "cell_type": "code",
      "metadata": {
        "id": "iFQecRrbTmoY"
      },
      "source": [
        "#중첩 반복구조를 사용한 2단부터 9단까지 구구단 프로그램 만들기\n",
        "# 변수 설명\n",
        "# m * n\n",
        "# m : m단\n",
        "# n : 곱할값\n",
        "\n",
        "for m in range(2,10) :\n",
        "  print(\"%d 단\" %m)\n",
        "  for n in range(1, 10) :\n",
        "    print(\"%d * %d = %d\" %(m, n, m*n))"
      ],
      "execution_count": null,
      "outputs": []
    },
    {
      "cell_type": "markdown",
      "metadata": {
        "id": "Cz0ANgHlTjoa"
      },
      "source": [
        "### 5) 중첩제어 구조의 활용\n",
        "\n",
        "중첩 제어 구조를 활용하여 프로그램을 작성할 수 있을까?\n",
        "> 학기별 과목별 단위 수와 석차 등급을 입력하면, 전체 학기의 평균 내신 등급을 계산하여 출력하는 프로그램을 작성해 보자.\n",
        "\n",
        "교과서 144p"
      ]
    }
  ]
}